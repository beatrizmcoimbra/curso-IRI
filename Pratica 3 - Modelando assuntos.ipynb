{
 "cells": [
  {
   "cell_type": "markdown",
   "metadata": {},
   "source": [
    "# Prática 3 - Modelando assuntos"
   ]
  },
  {
   "cell_type": "code",
   "execution_count": 1,
   "metadata": {
    "scrolled": true
   },
   "outputs": [],
   "source": [
    "from gensim import corpora, models, similarities\n",
    "from nltk.tokenize import WordPunctTokenizer\n",
    "from nltk.corpus import stopwords\n",
    "from string import punctuation\n",
    "from pprint import pprint"
   ]
  },
  {
   "cell_type": "markdown",
   "metadata": {},
   "source": [
    "## Definindo um problema\n",
    "\n",
    "A epidemia de Zika gerou uma epidemia de publicações científicas sobre o assunto. Como é uma doença pouco conhecida, pesquisas em diversas áreas do conhecimento precisam ser conduzidas para poder preencher a lacuna da nossa ignorância.\n",
    "\n",
    "Neste exercício vamos analizar um corpus de resumos de artigos publicados sobre o assunto e tentar modelar os assuntos existentes."
   ]
  },
  {
   "cell_type": "code",
   "execution_count": 2,
   "metadata": {
    "collapsed": true
   },
   "outputs": [],
   "source": [
    "dicionario = corpora.Dictionary.load('Dicionario_zika.dict')\n",
    "corpus = corpora.MmCorpus('corpus_zika')"
   ]
  },
  {
   "cell_type": "code",
   "execution_count": 3,
   "metadata": {},
   "outputs": [
    {
     "name": "stdout",
     "output_type": "stream",
     "text": [
      "Dictionary(5886 unique tokens: ['measure', 'inhibits', 'antivirals', 'contribution', 'mid']...)\n",
      "MmCorpus(498 documents, 5886 features, 24027 non-zero entries)\n"
     ]
    },
    {
     "data": {
      "text/plain": [
       "2931228"
      ]
     },
     "execution_count": 3,
     "metadata": {},
     "output_type": "execute_result"
    }
   ],
   "source": [
    "print(dicionario)\n",
    "print(corpus)\n",
    "498*5886"
   ]
  },
  {
   "cell_type": "code",
   "execution_count": 8,
   "metadata": {},
   "outputs": [
    {
     "name": "stdout",
     "output_type": "stream",
     "text": [
      "We\n",
      "[(0, 2.0), (1, 1.0), (2, 1.0), (3, 1.0), (4, 1.0), (5, 3.0), (6, 1.0), (7, 2.0), (8, 3.0), (9, 1.0), (10, 1.0), (11, 1.0), (12, 2.0), (13, 1.0), (14, 1.0), (15, 1.0), (16, 2.0), (17, 1.0), (18, 2.0), (19, 1.0), (20, 1.0), (21, 1.0), (22, 1.0), (23, 1.0), (24, 1.0), (25, 2.0), (26, 1.0), (27, 1.0), (28, 1.0), (29, 1.0), (30, 2.0), (31, 1.0), (32, 2.0), (33, 1.0), (34, 1.0), (35, 2.0), (36, 1.0), (37, 3.0), (38, 3.0), (39, 1.0), (40, 3.0), (41, 1.0), (42, 1.0), (43, 2.0), (44, 1.0), (45, 2.0), (46, 3.0), (47, 3.0), (48, 5.0), (49, 1.0), (50, 1.0), (51, 2.0), (52, 2.0), (53, 1.0), (54, 1.0), (55, 1.0), (56, 1.0), (57, 1.0), (58, 1.0), (59, 1.0), (60, 1.0), (61, 1.0), (62, 2.0), (63, 1.0), (64, 1.0), (65, 1.0), (66, 1.0), (67, 3.0), (68, 3.0), (69, 1.0), (70, 2.0), (71, 1.0), (72, 1.0), (73, 1.0), (74, 1.0), (75, 1.0), (76, 2.0), (77, 1.0), (78, 5.0), (79, 1.0), (80, 1.0), (81, 1.0), (82, 1.0), (83, 12.0), (84, 1.0), (85, 1.0), (86, 1.0), (87, 1.0), (88, 1.0), (89, 2.0), (90, 2.0), (91, 1.0), (92, 1.0), (93, 3.0), (94, 1.0), (95, 3.0), (96, 2.0), (97, 1.0), (98, 1.0), (99, 1.0), (100, 1.0), (101, 1.0), (102, 1.0), (103, 1.0), (104, 1.0), (105, 1.0), (106, 1.0), (107, 4.0), (108, 2.0), (109, 1.0), (110, 4.0), (111, 1.0), (112, 1.0), (113, 3.0), (114, 1.0), (115, 2.0), (116, 1.0), (117, 1.0), (118, 2.0), (119, 1.0), (120, 1.0), (121, 1.0), (122, 1.0), (123, 1.0), (124, 1.0), (125, 1.0), (126, 1.0), (127, 1.0), (128, 3.0), (129, 2.0), (130, 1.0), (131, 2.0), (132, 9.0), (133, 1.0), (134, 4.0), (135, 2.0), (136, 1.0), (137, 1.0), (138, 1.0), (139, 1.0), (140, 2.0), (141, 1.0), (142, 1.0), (143, 1.0), (144, 1.0), (145, 1.0), (146, 1.0), (147, 1.0), (148, 1.0), (149, 1.0), (150, 1.0), (151, 1.0), (152, 1.0), (153, 1.0), (154, 1.0), (155, 1.0), (156, 1.0), (157, 2.0), (158, 2.0)]\n",
      "[(0, 2.0), (4, 1.0), (14, 1.0), (28, 2.0), (33, 2.0), (35, 1.0), (47, 1.0), (63, 1.0), (65, 1.0), (83, 2.0), (91, 1.0), (105, 1.0), (110, 1.0), (153, 1.0), (158, 1.0), (159, 2.0), (160, 1.0), (161, 1.0), (162, 1.0), (163, 1.0), (164, 1.0), (165, 2.0), (166, 1.0), (167, 1.0), (168, 5.0), (169, 1.0), (170, 1.0), (171, 1.0), (172, 1.0), (173, 1.0), (174, 1.0), (175, 1.0), (176, 1.0), (177, 1.0), (178, 1.0), (179, 1.0), (180, 1.0), (181, 2.0), (182, 1.0), (183, 1.0), (184, 1.0), (185, 1.0), (186, 1.0), (187, 3.0), (188, 1.0), (189, 1.0), (190, 1.0), (191, 2.0), (192, 1.0), (193, 1.0), (194, 1.0), (195, 1.0), (196, 1.0), (197, 1.0), (198, 1.0), (199, 1.0), (200, 1.0), (201, 1.0), (202, 1.0), (203, 1.0), (204, 1.0), (205, 1.0), (206, 1.0), (207, 1.0), (208, 1.0), (209, 1.0), (210, 1.0), (211, 1.0), (212, 1.0), (213, 1.0), (214, 1.0), (215, 1.0), (216, 1.0), (217, 1.0), (218, 1.0), (219, 1.0), (220, 1.0), (221, 1.0), (222, 1.0), (223, 1.0), (224, 2.0), (225, 2.0), (226, 1.0), (227, 1.0), (228, 1.0), (229, 1.0), (230, 1.0), (231, 1.0), (232, 1.0), (233, 1.0), (234, 1.0), (235, 1.0), (236, 1.0), (237, 1.0), (238, 1.0), (239, 1.0), (240, 3.0), (241, 1.0), (242, 1.0), (243, 1.0), (244, 1.0), (245, 1.0), (246, 1.0), (247, 1.0), (248, 1.0), (249, 1.0), (250, 1.0), (251, 1.0), (252, 1.0), (253, 2.0), (254, 1.0), (255, 1.0), (256, 1.0), (257, 1.0), (258, 1.0), (259, 1.0), (260, 1.0), (261, 1.0), (262, 1.0), (263, 1.0), (264, 1.0), (265, 1.0), (266, 1.0), (267, 1.0), (268, 1.0)]\n",
      "[(0, 1.0), (4, 1.0), (12, 4.0), (14, 1.0), (26, 1.0), (33, 1.0), (35, 1.0), (47, 1.0), (65, 1.0), (70, 2.0), (83, 7.0), (94, 1.0), (107, 1.0), (138, 1.0), (153, 2.0), (154, 1.0), (162, 1.0), (166, 1.0), (185, 1.0), (199, 1.0), (214, 1.0), (228, 1.0), (239, 1.0), (251, 1.0), (263, 1.0), (269, 1.0), (270, 1.0), (271, 2.0), (272, 1.0), (273, 1.0), (274, 1.0), (275, 1.0), (276, 1.0), (277, 1.0), (278, 1.0), (279, 2.0), (280, 1.0), (281, 1.0), (282, 1.0), (283, 1.0), (284, 1.0), (285, 1.0), (286, 1.0), (287, 1.0), (288, 1.0), (289, 1.0), (290, 2.0), (291, 1.0), (292, 1.0), (293, 1.0), (294, 1.0), (295, 1.0), (296, 1.0), (297, 1.0), (298, 1.0), (299, 1.0), (300, 2.0), (301, 1.0), (302, 1.0), (303, 1.0), (304, 1.0), (305, 1.0), (306, 1.0), (307, 1.0), (308, 1.0), (309, 1.0), (310, 1.0), (311, 1.0), (312, 1.0), (313, 1.0), (314, 1.0), (315, 1.0), (316, 1.0), (317, 1.0), (318, 1.0), (319, 1.0), (320, 1.0), (321, 1.0), (322, 1.0), (323, 1.0), (324, 1.0), (325, 1.0), (326, 1.0), (327, 1.0), (328, 1.0), (329, 1.0)]\n"
     ]
    }
   ],
   "source": [
    "print(dicionario[35])\n",
    "for doc in corpus[:3]:\n",
    "    print(doc)"
   ]
  },
  {
   "cell_type": "code",
   "execution_count": null,
   "metadata": {
    "collapsed": true
   },
   "outputs": [],
   "source": []
  },
  {
   "cell_type": "markdown",
   "metadata": {},
   "source": [
    "## Latent Semantic Indexing - LSI"
   ]
  },
  {
   "cell_type": "code",
   "execution_count": 9,
   "metadata": {
    "collapsed": true
   },
   "outputs": [],
   "source": [
    "tfidf = models.TfidfModel(corpus)\n",
    "corpus_tfidf = tfidf[corpus]"
   ]
  },
  {
   "cell_type": "code",
   "execution_count": 32,
   "metadata": {},
   "outputs": [
    {
     "name": "stdout",
     "output_type": "stream",
     "text": [
      "Populating the interactive namespace from numpy and matplotlib\n"
     ]
    }
   ],
   "source": [
    "import pandas as pd\n",
    "import seaborn as sns\n",
    "from collections import OrderedDict\n",
    "%pylab inline"
   ]
  },
  {
   "cell_type": "code",
   "execution_count": 56,
   "metadata": {},
   "outputs": [],
   "source": [
    "lsi = models.LsiModel(corpus_tfidf, id2word=dicionario, num_topics=10)\n",
    "corpus_lsi = lsi[corpus_tfidf]"
   ]
  },
  {
   "cell_type": "code",
   "execution_count": 46,
   "metadata": {
    "scrolled": true
   },
   "outputs": [],
   "source": [
    "data = {i: OrderedDict(lsi.show_topic(i,10)) for i in range(10)}"
   ]
  },
  {
   "cell_type": "code",
   "execution_count": 47,
   "metadata": {},
   "outputs": [
    {
     "name": "stdout",
     "output_type": "stream",
     "text": [
      "[('ZIKV', 0.34157754946597269), ('virus', 0.2589532962466361), ('Zika', 0.19200528472419356), ('infection', 0.15149989728673044)]\n"
     ]
    },
    {
     "data": {
      "text/plain": [
       "OrderedDict([('ZIKV', 0.34157754946597269),\n",
       "             ('virus', 0.2589532962466361),\n",
       "             ('Zika', 0.19200528472419356),\n",
       "             ('infection', 0.15149989728673044)])"
      ]
     },
     "execution_count": 47,
     "metadata": {},
     "output_type": "execute_result"
    }
   ],
   "source": [
    "print(lsi.show_topic(0,4))\n",
    "OrderedDict(lsi.show_topic(0,4))"
   ]
  },
  {
   "cell_type": "code",
   "execution_count": 48,
   "metadata": {},
   "outputs": [
    {
     "name": "stdout",
     "output_type": "stream",
     "text": [
      "(57, 10)\n"
     ]
    }
   ],
   "source": [
    "df = pd.DataFrame(data)\n",
    "print(df.shape)\n",
    "df = df.fillna(0).T"
   ]
  },
  {
   "cell_type": "code",
   "execution_count": 49,
   "metadata": {},
   "outputs": [
    {
     "data": {
      "text/plain": [
       "<seaborn.matrix.ClusterGrid at 0x7fccb55ab438>"
      ]
     },
     "execution_count": 49,
     "metadata": {},
     "output_type": "execute_result"
    },
    {
     "data": {
      "image/png": "[encoded data removed]",
      "text/plain": [
       "<matplotlib.figure.Figure at 0x7fccb55ab358>"
      ]
     },
     "metadata": {},
     "output_type": "display_data"
    }
   ],
   "source": [
    "sns.clustermap(df.corr(), center=0, cmap=\"vlag\", metric='cosine',\n",
    "               linewidths=.75, figsize=(13, 13))"
   ]
  },
  {
   "cell_type": "markdown",
   "metadata": {},
   "source": [
    "Depois de estimar o modelo, podemos olhar os 30 assuntos, listando apenas as 4 palavras mais importantes."
   ]
  },
  {
   "cell_type": "code",
   "execution_count": 51,
   "metadata": {
    "scrolled": true
   },
   "outputs": [
    {
     "data": {
      "text/plain": [
       "[(0, '0.342*\"ZIKV\" + 0.259*\"virus\" + 0.192*\"Zika\" + 0.151*\"infection\"'),\n",
       " (1, '-0.517*\"ZIKV\" + 0.241*\"women\" + 0.189*\"virus\" + 0.177*\"pregnant\"'),\n",
       " (2, '0.337*\"ZIKV\" + -0.251*\"YF\" + -0.200*\"antibodies\" + -0.195*\"antibody\"'),\n",
       " (3, '0.273*\"ZIKV\" + 0.170*\"women\" + -0.136*\"spread\" + 0.117*\"pregnancy\"'),\n",
       " (4,\n",
       "  '0.370*\"Ae\" + 0.177*\"transmission\" + -0.152*\"microcephaly\" + 0.143*\"aegypti\"'),\n",
       " (5, '-0.295*\"YF\" + 0.207*\"patients\" + -0.163*\"ZIKV\" + -0.149*\"microcephaly\"'),\n",
       " (6, '-0.256*\"Ae\" + 0.186*\"ZIKV\" + -0.178*\"Brazil\" + -0.170*\"microcephaly\"'),\n",
       " (7, '0.404*\"YF\" + -0.127*\"viruses\" + -0.113*\"public\" + -0.104*\"blood\"'),\n",
       " (8, '0.167*\"Ae\" + -0.155*\"sequence\" + -0.152*\"sequences\" + -0.134*\"viruses\"'),\n",
       " (9, '-0.389*\"YF\" + -0.158*\"Ae\" + -0.120*\"saliva\" + 0.111*\"viruses\"')]"
      ]
     },
     "execution_count": 51,
     "metadata": {},
     "output_type": "execute_result"
    }
   ],
   "source": [
    "lsi.show_topics(10,4)"
   ]
  },
  {
   "cell_type": "markdown",
   "metadata": {},
   "source": [
    "Podemos também olhar para os documentos do nosso corpus como uma combinação linear dos assuntos"
   ]
  },
  {
   "cell_type": "code",
   "execution_count": 52,
   "metadata": {},
   "outputs": [
    {
     "name": "stdout",
     "output_type": "stream",
     "text": [
      "[(0, 0.29345949180273639), (1, -0.045238539294030947), (2, 0.058141321080812304), (3, 0.34186611888639995), (4, 0.019284183630562609), (5, -0.089507821137489715), (6, -0.027912845143063768), (7, -0.064806149126194063), (8, 0.066229768508563797), (9, -0.007429908932425581)]\n"
     ]
    }
   ],
   "source": [
    "for doc  in corpus_lsi:\n",
    "    print(doc)\n",
    "    break"
   ]
  },
  {
   "cell_type": "code",
   "execution_count": 70,
   "metadata": {
    "scrolled": false
   },
   "outputs": [
    {
     "data": {
      "text/html": [
       "<div>\n",
       "<style>\n",
       "    .dataframe thead tr:only-child th {\n",
       "        text-align: right;\n",
       "    }\n",
       "\n",
       "    .dataframe thead th {\n",
       "        text-align: left;\n",
       "    }\n",
       "\n",
       "    .dataframe tbody tr th {\n",
       "        vertical-align: top;\n",
       "    }\n",
       "</style>\n",
       "<table border=\"1\" class=\"dataframe\">\n",
       "  <thead>\n",
       "    <tr style=\"text-align: right;\">\n",
       "      <th></th>\n",
       "      <th>doc0</th>\n",
       "      <th>doc1</th>\n",
       "      <th>doc2</th>\n",
       "      <th>doc3</th>\n",
       "      <th>doc4</th>\n",
       "      <th>doc5</th>\n",
       "      <th>doc6</th>\n",
       "      <th>doc7</th>\n",
       "      <th>doc8</th>\n",
       "      <th>doc9</th>\n",
       "    </tr>\n",
       "  </thead>\n",
       "  <tbody>\n",
       "    <tr>\n",
       "      <th>0</th>\n",
       "      <td>0.293448</td>\n",
       "      <td>0.280462</td>\n",
       "      <td>0.305186</td>\n",
       "      <td>0.333472</td>\n",
       "      <td>0.360320</td>\n",
       "      <td>0.197510</td>\n",
       "      <td>0.211605</td>\n",
       "      <td>0.290880</td>\n",
       "      <td>0.174393</td>\n",
       "      <td>0.276690</td>\n",
       "    </tr>\n",
       "    <tr>\n",
       "      <th>1</th>\n",
       "      <td>0.045910</td>\n",
       "      <td>0.073513</td>\n",
       "      <td>0.080104</td>\n",
       "      <td>0.237496</td>\n",
       "      <td>0.055351</td>\n",
       "      <td>0.077038</td>\n",
       "      <td>-0.012339</td>\n",
       "      <td>0.004119</td>\n",
       "      <td>0.052041</td>\n",
       "      <td>0.093814</td>\n",
       "    </tr>\n",
       "    <tr>\n",
       "      <th>2</th>\n",
       "      <td>0.059802</td>\n",
       "      <td>0.016407</td>\n",
       "      <td>0.207669</td>\n",
       "      <td>0.058833</td>\n",
       "      <td>0.156247</td>\n",
       "      <td>0.108603</td>\n",
       "      <td>0.077612</td>\n",
       "      <td>0.159632</td>\n",
       "      <td>0.003114</td>\n",
       "      <td>0.088531</td>\n",
       "    </tr>\n",
       "    <tr>\n",
       "      <th>3</th>\n",
       "      <td>-0.338071</td>\n",
       "      <td>0.098279</td>\n",
       "      <td>-0.123685</td>\n",
       "      <td>0.076724</td>\n",
       "      <td>-0.066332</td>\n",
       "      <td>-0.040690</td>\n",
       "      <td>-0.091927</td>\n",
       "      <td>-0.000565</td>\n",
       "      <td>-0.012654</td>\n",
       "      <td>0.047231</td>\n",
       "    </tr>\n",
       "    <tr>\n",
       "      <th>4</th>\n",
       "      <td>0.009629</td>\n",
       "      <td>0.025538</td>\n",
       "      <td>-0.044764</td>\n",
       "      <td>0.334676</td>\n",
       "      <td>-0.178169</td>\n",
       "      <td>-0.017421</td>\n",
       "      <td>-0.076579</td>\n",
       "      <td>-0.013151</td>\n",
       "      <td>0.053259</td>\n",
       "      <td>-0.018266</td>\n",
       "    </tr>\n",
       "  </tbody>\n",
       "</table>\n",
       "</div>"
      ],
      "text/plain": [
       "       doc0      doc1      doc2      doc3      doc4      doc5      doc6  \\\n",
       "0  0.293448  0.280462  0.305186  0.333472  0.360320  0.197510  0.211605   \n",
       "1  0.045910  0.073513  0.080104  0.237496  0.055351  0.077038 -0.012339   \n",
       "2  0.059802  0.016407  0.207669  0.058833  0.156247  0.108603  0.077612   \n",
       "3 -0.338071  0.098279 -0.123685  0.076724 -0.066332 -0.040690 -0.091927   \n",
       "4  0.009629  0.025538 -0.044764  0.334676 -0.178169 -0.017421 -0.076579   \n",
       "\n",
       "       doc7      doc8      doc9  \n",
       "0  0.290880  0.174393  0.276690  \n",
       "1  0.004119  0.052041  0.093814  \n",
       "2  0.159632  0.003114  0.088531  \n",
       "3 -0.000565 -0.012654  0.047231  \n",
       "4 -0.013151  0.053259 -0.018266  "
      ]
     },
     "execution_count": 70,
     "metadata": {},
     "output_type": "execute_result"
    }
   ],
   "source": [
    "data = {'doc%s'%i: dict(doc) for i,doc in enumerate(corpus_lsi[:10])}\n",
    "dfdoc = pd.DataFrame(data)\n",
    "dfdoc = dfdoc.fillna(0)\n",
    "dfdoc.head()"
   ]
  },
  {
   "cell_type": "code",
   "execution_count": 71,
   "metadata": {},
   "outputs": [
    {
     "data": {
      "image/png": "[encoded data removed]",
      "text/plain": [
       "<matplotlib.figure.Figure at 0x7fccb4ecec18>"
      ]
     },
     "metadata": {},
     "output_type": "display_data"
    }
   ],
   "source": [
    "sns.clustermap(dfdoc.corr(), center=0, cmap=\"vlag\", metric='hamming',\n",
    "               linewidths=.75, figsize=(13, 13));"
   ]
  },
  {
   "cell_type": "code",
   "execution_count": 66,
   "metadata": {
    "scrolled": true
   },
   "outputs": [
    {
     "data": {
      "text/html": [
       "<div>\n",
       "<style>\n",
       "    .dataframe thead tr:only-child th {\n",
       "        text-align: right;\n",
       "    }\n",
       "\n",
       "    .dataframe thead th {\n",
       "        text-align: left;\n",
       "    }\n",
       "\n",
       "    .dataframe tbody tr th {\n",
       "        vertical-align: top;\n",
       "    }\n",
       "</style>\n",
       "<table border=\"1\" class=\"dataframe\">\n",
       "  <thead>\n",
       "    <tr style=\"text-align: right;\">\n",
       "      <th></th>\n",
       "      <th>0</th>\n",
       "      <th>1</th>\n",
       "      <th>2</th>\n",
       "      <th>3</th>\n",
       "      <th>4</th>\n",
       "      <th>5</th>\n",
       "      <th>6</th>\n",
       "      <th>7</th>\n",
       "      <th>8</th>\n",
       "      <th>9</th>\n",
       "    </tr>\n",
       "  </thead>\n",
       "  <tbody>\n",
       "    <tr>\n",
       "      <th>count</th>\n",
       "      <td>498.000000</td>\n",
       "      <td>498.000000</td>\n",
       "      <td>498.000000</td>\n",
       "      <td>498.000000</td>\n",
       "      <td>498.000000</td>\n",
       "      <td>498.000000</td>\n",
       "      <td>498.000000</td>\n",
       "      <td>498.000000</td>\n",
       "      <td>498.000000</td>\n",
       "      <td>498.000000</td>\n",
       "    </tr>\n",
       "    <tr>\n",
       "      <th>mean</th>\n",
       "      <td>0.109329</td>\n",
       "      <td>0.001527</td>\n",
       "      <td>-0.012893</td>\n",
       "      <td>0.002318</td>\n",
       "      <td>0.000027</td>\n",
       "      <td>0.002832</td>\n",
       "      <td>0.000310</td>\n",
       "      <td>-0.006457</td>\n",
       "      <td>-0.004438</td>\n",
       "      <td>-0.003866</td>\n",
       "    </tr>\n",
       "    <tr>\n",
       "      <th>std</th>\n",
       "      <td>0.123600</td>\n",
       "      <td>0.094665</td>\n",
       "      <td>0.087830</td>\n",
       "      <td>0.076518</td>\n",
       "      <td>0.073733</td>\n",
       "      <td>0.069870</td>\n",
       "      <td>0.068738</td>\n",
       "      <td>0.064839</td>\n",
       "      <td>0.062868</td>\n",
       "      <td>0.062469</td>\n",
       "    </tr>\n",
       "    <tr>\n",
       "      <th>min</th>\n",
       "      <td>0.000000</td>\n",
       "      <td>-0.470679</td>\n",
       "      <td>-0.438635</td>\n",
       "      <td>-0.338071</td>\n",
       "      <td>-0.202787</td>\n",
       "      <td>-0.342488</td>\n",
       "      <td>-0.234892</td>\n",
       "      <td>-0.205701</td>\n",
       "      <td>-0.361605</td>\n",
       "      <td>-0.356982</td>\n",
       "    </tr>\n",
       "    <tr>\n",
       "      <th>25%</th>\n",
       "      <td>0.000000</td>\n",
       "      <td>0.000000</td>\n",
       "      <td>-0.009995</td>\n",
       "      <td>-0.000423</td>\n",
       "      <td>-0.011972</td>\n",
       "      <td>0.000000</td>\n",
       "      <td>0.000000</td>\n",
       "      <td>-0.025780</td>\n",
       "      <td>-0.003138</td>\n",
       "      <td>-0.015536</td>\n",
       "    </tr>\n",
       "    <tr>\n",
       "      <th>50%</th>\n",
       "      <td>0.047621</td>\n",
       "      <td>0.000000</td>\n",
       "      <td>0.000000</td>\n",
       "      <td>0.000000</td>\n",
       "      <td>0.000000</td>\n",
       "      <td>0.000000</td>\n",
       "      <td>0.000000</td>\n",
       "      <td>0.000000</td>\n",
       "      <td>0.000000</td>\n",
       "      <td>0.000000</td>\n",
       "    </tr>\n",
       "    <tr>\n",
       "      <th>75%</th>\n",
       "      <td>0.203830</td>\n",
       "      <td>0.016140</td>\n",
       "      <td>0.000000</td>\n",
       "      <td>0.010740</td>\n",
       "      <td>0.000000</td>\n",
       "      <td>0.015469</td>\n",
       "      <td>0.011102</td>\n",
       "      <td>0.000000</td>\n",
       "      <td>0.000214</td>\n",
       "      <td>0.000000</td>\n",
       "    </tr>\n",
       "    <tr>\n",
       "      <th>max</th>\n",
       "      <td>0.428312</td>\n",
       "      <td>0.301974</td>\n",
       "      <td>0.207669</td>\n",
       "      <td>0.302283</td>\n",
       "      <td>0.409304</td>\n",
       "      <td>0.265928</td>\n",
       "      <td>0.233406</td>\n",
       "      <td>0.379676</td>\n",
       "      <td>0.175709</td>\n",
       "      <td>0.190188</td>\n",
       "    </tr>\n",
       "  </tbody>\n",
       "</table>\n",
       "</div>"
      ],
      "text/plain": [
       "                0           1           2           3           4           5  \\\n",
       "count  498.000000  498.000000  498.000000  498.000000  498.000000  498.000000   \n",
       "mean     0.109329    0.001527   -0.012893    0.002318    0.000027    0.002832   \n",
       "std      0.123600    0.094665    0.087830    0.076518    0.073733    0.069870   \n",
       "min      0.000000   -0.470679   -0.438635   -0.338071   -0.202787   -0.342488   \n",
       "25%      0.000000    0.000000   -0.009995   -0.000423   -0.011972    0.000000   \n",
       "50%      0.047621    0.000000    0.000000    0.000000    0.000000    0.000000   \n",
       "75%      0.203830    0.016140    0.000000    0.010740    0.000000    0.015469   \n",
       "max      0.428312    0.301974    0.207669    0.302283    0.409304    0.265928   \n",
       "\n",
       "                6           7           8           9  \n",
       "count  498.000000  498.000000  498.000000  498.000000  \n",
       "mean     0.000310   -0.006457   -0.004438   -0.003866  \n",
       "std      0.068738    0.064839    0.062868    0.062469  \n",
       "min     -0.234892   -0.205701   -0.361605   -0.356982  \n",
       "25%      0.000000   -0.025780   -0.003138   -0.015536  \n",
       "50%      0.000000    0.000000    0.000000    0.000000  \n",
       "75%      0.011102    0.000000    0.000214    0.000000  \n",
       "max      0.233406    0.379676    0.175709    0.190188  "
      ]
     },
     "execution_count": 66,
     "metadata": {},
     "output_type": "execute_result"
    }
   ],
   "source": [
    "dfdoc.T.describe()"
   ]
  },
  {
   "cell_type": "code",
   "execution_count": null,
   "metadata": {
    "collapsed": true
   },
   "outputs": [],
   "source": []
  },
  {
   "cell_type": "markdown",
   "metadata": {},
   "source": [
    "Podemos calcular a similaridade por assunto de um documento com todos os demais documentos do corpus."
   ]
  },
  {
   "cell_type": "code",
   "execution_count": 72,
   "metadata": {},
   "outputs": [],
   "source": [
    "index = similarities.MatrixSimilarity(corpus_lsi)"
   ]
  },
  {
   "cell_type": "markdown",
   "metadata": {},
   "source": [
    "Vamos escolher o primeiro documento do corpus para ser a referência"
   ]
  },
  {
   "cell_type": "code",
   "execution_count": 73,
   "metadata": {
    "scrolled": true
   },
   "outputs": [
    {
     "name": "stdout",
     "output_type": "stream",
     "text": [
      "[(73, 0.87004942),\n",
      " (459, 0.86450005),\n",
      " (427, 0.83704489),\n",
      " (108, 0.83494574),\n",
      " (475, 0.83481497),\n",
      " (75, 0.83465475),\n",
      " (202, 0.83337098),\n",
      " (352, 0.81572568),\n",
      " (414, 0.80531114),\n",
      " (169, 0.78436548),\n",
      " (47, 0.78404289),\n",
      " (189, 0.78197801),\n",
      " (229, 0.76690847),\n",
      " (203, 0.76366138),\n",
      " (221, 0.759893),\n",
      " (392, 0.75976372),\n",
      " (447, 0.75698704),\n",
      " (182, 0.74682033),\n",
      " (360, 0.74494559),\n",
      " (58, 0.74354899),\n",
      " (370, 0.74033713),\n",
      " (469, 0.71678525),\n",
      " (18, 0.7157445),\n",
      " (429, 0.71456957),\n",
      " (79, 0.71443391),\n",
      " (320, 0.70757896),\n",
      " (389, 0.70740151),\n",
      " (431, 0.69884211),\n",
      " (156, 0.69863302),\n",
      " (51, 0.69745791),\n",
      " (369, 0.69511002),\n",
      " (13, 0.69462854),\n",
      " (201, 0.69346744),\n",
      " (132, 0.68861955),\n",
      " (448, 0.68639565),\n",
      " (403, 0.68627733),\n",
      " (240, 0.67763066),\n",
      " (334, 0.67686063),\n",
      " (252, 0.67128003),\n",
      " (441, 0.66998154),\n",
      " (251, 0.66935021),\n",
      " (364, 0.66766518),\n",
      " (109, 0.66162771),\n",
      " (442, 0.65840495),\n",
      " (137, 0.65382922),\n",
      " (318, 0.65159786),\n",
      " (1, 0.64967042),\n",
      " (106, 0.64941704),\n",
      " (412, 0.64837432),\n",
      " (395, 0.64803612),\n",
      " (82, 0.64632064),\n",
      " (413, 0.64627492),\n",
      " (112, 0.64592701),\n",
      " (342, 0.63551593),\n",
      " (175, 0.63270617),\n",
      " (206, 0.62067026),\n",
      " (224, 0.61937058),\n",
      " (9, 0.61627179),\n",
      " (246, 0.61546832),\n",
      " (257, 0.61352825),\n",
      " (125, 0.61300468),\n",
      " (407, 0.60508996),\n",
      " (326, 0.6012345),\n",
      " (36, 0.59547883),\n",
      " (472, 0.59223318),\n",
      " (492, 0.58620375),\n",
      " (467, 0.58239472),\n",
      " (198, 0.58188945),\n",
      " (351, 0.58168036),\n",
      " (406, 0.57961154),\n",
      " (432, 0.57267338),\n",
      " (357, 0.56598735),\n",
      " (473, 0.56580853),\n",
      " (439, 0.56572485),\n",
      " (409, 0.56362045),\n",
      " (256, 0.56345046),\n",
      " (450, 0.5568043),\n",
      " (217, 0.55658883),\n",
      " (381, 0.55469692),\n",
      " (208, 0.55179518),\n",
      " (319, 0.55129689),\n",
      " (116, 0.54601449),\n",
      " (35, 0.5425728),\n",
      " (321, 0.54176503),\n",
      " (378, 0.54122937),\n",
      " (63, 0.54006159),\n",
      " (457, 0.53416449),\n",
      " (7, 0.53005415),\n",
      " (322, 0.52987659),\n",
      " (401, 0.52927655),\n",
      " (37, 0.52240294),\n",
      " (145, 0.52102041),\n",
      " (151, 0.52060759),\n",
      " (126, 0.51993084),\n",
      " (350, 0.51249719),\n",
      " (408, 0.50650078),\n",
      " (249, 0.50558841),\n",
      " (463, 0.50188047),\n",
      " (241, 0.50048077),\n",
      " (17, 0.49470639),\n",
      " (179, 0.48946911),\n",
      " (444, 0.48495451),\n",
      " (49, 0.46982715),\n",
      " (253, 0.46552509),\n",
      " (374, 0.46248472),\n",
      " (465, 0.46225178),\n",
      " (3, 0.45330581),\n",
      " (343, 0.44953761),\n",
      " (62, 0.44236204),\n",
      " (40, 0.44161183),\n",
      " (445, 0.44045708),\n",
      " (438, 0.43902382),\n",
      " (8, 0.43317744),\n",
      " (455, 0.43139994),\n",
      " (41, 0.42144829),\n",
      " (426, 0.41925251),\n",
      " (245, 0.41344687),\n",
      " (443, 0.40899789),\n",
      " (274, 0.40746588),\n",
      " (212, 0.40722832),\n",
      " (428, 0.39786774),\n",
      " (476, 0.39172012),\n",
      " (262, 0.38050225),\n",
      " (128, 0.38002703),\n",
      " (419, 0.37558886),\n",
      " (5, 0.37080091),\n",
      " (44, 0.36688346),\n",
      " (386, 0.36672366),\n",
      " (479, 0.36522338),\n",
      " (225, 0.36374149),\n",
      " (273, 0.36095715),\n",
      " (42, 0.35840911),\n",
      " (331, 0.35608086),\n",
      " (4, 0.34961393),\n",
      " (105, 0.34931594),\n",
      " (210, 0.34017637),\n",
      " (390, 0.33706596),\n",
      " (38, 0.33560786),\n",
      " (34, 0.33234635),\n",
      " (424, 0.32550767),\n",
      " (308, 0.32440341),\n",
      " (301, 0.32225212),\n",
      " (45, 0.3220726),\n",
      " (298, 0.31560588),\n",
      " (31, 0.309524),\n",
      " (127, 0.30795479),\n",
      " (385, 0.30753303),\n",
      " (21, 0.30147022),\n",
      " (70, 0.30102673),\n",
      " (260, 0.30052775),\n",
      " (323, 0.29768252),\n",
      " (233, 0.29678708),\n",
      " (144, 0.29574543),\n",
      " (43, 0.29396683),\n",
      " (339, 0.29285014),\n",
      " (391, 0.28996879),\n",
      " (22, 0.28947428),\n",
      " (297, 0.28820193),\n",
      " (335, 0.28443876),\n",
      " (10, 0.27899331),\n",
      " (477, 0.27381811),\n",
      " (263, 0.27040148),\n",
      " (238, 0.26813811),\n",
      " (68, 0.26253664),\n",
      " (232, 0.25957039),\n",
      " (25, 0.25493518),\n",
      " (270, 0.24727765),\n",
      " (416, 0.24688213),\n",
      " (15, 0.24549839),\n",
      " (402, 0.24403822),\n",
      " (436, 0.23741482),\n",
      " (400, 0.234038),\n",
      " (235, 0.23260371),\n",
      " (6, 0.22524136),\n",
      " (19, 0.21274839),\n",
      " (287, 0.20809236),\n",
      " (371, 0.20218921),\n",
      " (28, 0.19500172),\n",
      " (90, 0.19372335),\n",
      " (100, 0.191477),\n",
      " (288, 0.18878388),\n",
      " (327, 0.18499359),\n",
      " (417, 0.18467806),\n",
      " (118, 0.18244374),\n",
      " (464, 0.17896146),\n",
      " (434, 0.17772488),\n",
      " (20, 0.17680839),\n",
      " (2, 0.17657171),\n",
      " (271, 0.1744893),\n",
      " (258, 0.17318451),\n",
      " (268, 0.17308274),\n",
      " (174, 0.17082006),\n",
      " (24, 0.16834797),\n",
      " (29, 0.16500248),\n",
      " (304, 0.16439909),\n",
      " (46, 0.15572354),\n",
      " (30, 0.15308163),\n",
      " (295, 0.14797951),\n",
      " (487, 0.14692873),\n",
      " (64, 0.14567009),\n",
      " (39, 0.1374799),\n",
      " (296, 0.12949374),\n",
      " (146, 0.1215296),\n",
      " (250, 0.11876278),\n",
      " (33, 0.11791482),\n",
      " (435, 0.11719071),\n",
      " (26, 0.11646172),\n",
      " (275, 0.11550727),\n",
      " (266, 0.11022824),\n",
      " (173, 0.10616808),\n",
      " (247, 0.10570751),\n",
      " (286, 0.10473447),\n",
      " (383, 0.10309006),\n",
      " (228, 0.095798343),\n",
      " (283, 0.094583914),\n",
      " (282, 0.094207615),\n",
      " (272, 0.087724566),\n",
      " (16, 0.085521527),\n",
      " (267, 0.084957503),\n",
      " (285, 0.082288496),\n",
      " (11, 0.081267148),\n",
      " (27, 0.076386705),\n",
      " (284, 0.075270638),\n",
      " (259, 0.074847639),\n",
      " (184, 0.073050089),\n",
      " (292, 0.072585285),\n",
      " (269, 0.067345947),\n",
      " (423, 0.061955772),\n",
      " (69, 0.061066601),\n",
      " (181, 0.055398714),\n",
      " (332, 0.055195682),\n",
      " (291, 0.053368628),\n",
      " (136, 0.051512521),\n",
      " (290, 0.03118195),\n",
      " (276, 0.026022844),\n",
      " (32, 0.021713983),\n",
      " (453, 0.0029486418),\n",
      " (23, 0.0),\n",
      " (48, 0.0),\n",
      " (50, 0.0),\n",
      " (52, 0.0),\n",
      " (53, 0.0),\n",
      " (54, 0.0),\n",
      " (55, 0.0),\n",
      " (56, 0.0),\n",
      " (57, 0.0),\n",
      " (59, 0.0),\n",
      " (60, 0.0),\n",
      " (61, 0.0),\n",
      " (65, 0.0),\n",
      " (66, 0.0),\n",
      " (67, 0.0),\n",
      " (71, 0.0),\n",
      " (72, 0.0),\n",
      " (74, 0.0),\n",
      " (76, 0.0),\n",
      " (77, 0.0),\n",
      " (78, 0.0),\n",
      " (80, 0.0),\n",
      " (81, 0.0),\n",
      " (83, 0.0),\n",
      " (84, 0.0),\n",
      " (85, 0.0),\n",
      " (86, 0.0),\n",
      " (87, 0.0),\n",
      " (88, 0.0),\n",
      " (89, 0.0),\n",
      " (91, 0.0),\n",
      " (92, 0.0),\n",
      " (93, 0.0),\n",
      " (94, 0.0),\n",
      " (95, 0.0),\n",
      " (96, 0.0),\n",
      " (97, 0.0),\n",
      " (98, 0.0),\n",
      " (99, 0.0),\n",
      " (101, 0.0),\n",
      " (102, 0.0),\n",
      " (103, 0.0),\n",
      " (104, 0.0),\n",
      " (107, 0.0),\n",
      " (110, 0.0),\n",
      " (111, 0.0),\n",
      " (113, 0.0),\n",
      " (114, 0.0),\n",
      " (115, 0.0),\n",
      " (117, 0.0),\n",
      " (119, 0.0),\n",
      " (120, 0.0),\n",
      " (121, 0.0),\n",
      " (122, 0.0),\n",
      " (123, 0.0),\n",
      " (124, 0.0),\n",
      " (129, 0.0),\n",
      " (130, 0.0),\n",
      " (131, 0.0),\n",
      " (133, 0.0),\n",
      " (134, 0.0),\n",
      " (135, 0.0),\n",
      " (138, 0.0),\n",
      " (139, 0.0),\n",
      " (140, 0.0),\n",
      " (141, 0.0),\n",
      " (142, 0.0),\n",
      " (143, 0.0),\n",
      " (147, 0.0),\n",
      " (148, 0.0),\n",
      " (149, 0.0),\n",
      " (150, 0.0),\n",
      " (152, 0.0),\n",
      " (153, 0.0),\n",
      " (154, 0.0),\n",
      " (155, 0.0),\n",
      " (157, 0.0),\n",
      " (158, 0.0),\n",
      " (159, 0.0),\n",
      " (160, 0.0),\n",
      " (161, 0.0),\n",
      " (162, 0.0),\n",
      " (163, 0.0),\n",
      " (164, 0.0),\n",
      " (165, 0.0),\n",
      " (166, 0.0),\n",
      " (167, 0.0),\n",
      " (168, 0.0),\n",
      " (170, 0.0),\n",
      " (171, 0.0),\n",
      " (172, 0.0),\n",
      " (176, 0.0),\n",
      " (177, 0.0),\n",
      " (178, 0.0),\n",
      " (180, 0.0),\n",
      " (183, 0.0),\n",
      " (185, 0.0),\n",
      " (186, 0.0),\n",
      " (187, 0.0),\n",
      " (188, 0.0),\n",
      " (190, 0.0),\n",
      " (191, 0.0),\n",
      " (192, 0.0),\n",
      " (193, 0.0),\n",
      " (194, 0.0),\n",
      " (195, 0.0),\n",
      " (196, 0.0),\n",
      " (197, 0.0),\n",
      " (199, 0.0),\n",
      " (200, 0.0),\n",
      " (204, 0.0),\n",
      " (205, 0.0),\n",
      " (207, 0.0),\n",
      " (209, 0.0),\n",
      " (211, 0.0),\n",
      " (213, 0.0),\n",
      " (214, 0.0),\n",
      " (215, 0.0),\n",
      " (216, 0.0),\n",
      " (218, 0.0),\n",
      " (219, 0.0),\n",
      " (222, 0.0),\n",
      " (223, 0.0),\n",
      " (226, 0.0),\n",
      " (227, 0.0),\n",
      " (230, 0.0),\n",
      " (231, 0.0),\n",
      " (234, 0.0),\n",
      " (236, 0.0),\n",
      " (239, 0.0),\n",
      " (242, 0.0),\n",
      " (243, 0.0),\n",
      " (244, 0.0),\n",
      " (248, 0.0),\n",
      " (261, 0.0),\n",
      " (299, 0.0),\n",
      " (302, 0.0),\n",
      " (303, 0.0),\n",
      " (305, 0.0),\n",
      " (306, 0.0),\n",
      " (307, 0.0),\n",
      " (309, 0.0),\n",
      " (310, 0.0),\n",
      " (311, 0.0),\n",
      " (312, 0.0),\n",
      " (313, 0.0),\n",
      " (314, 0.0),\n",
      " (315, 0.0),\n",
      " (316, 0.0),\n",
      " (317, 0.0),\n",
      " (324, 0.0),\n",
      " (325, 0.0),\n",
      " (328, 0.0),\n",
      " (329, 0.0),\n",
      " (330, 0.0),\n",
      " (333, 0.0),\n",
      " (336, 0.0),\n",
      " (337, 0.0),\n",
      " (338, 0.0),\n",
      " (340, 0.0),\n",
      " (341, 0.0),\n",
      " (344, 0.0),\n",
      " (345, 0.0),\n",
      " (346, 0.0),\n",
      " (347, 0.0),\n",
      " (348, 0.0),\n",
      " (349, 0.0),\n",
      " (353, 0.0),\n",
      " (354, 0.0),\n",
      " (355, 0.0),\n",
      " (356, 0.0),\n",
      " (358, 0.0),\n",
      " (359, 0.0),\n",
      " (361, 0.0),\n",
      " (362, 0.0),\n",
      " (363, 0.0),\n",
      " (365, 0.0),\n",
      " (366, 0.0),\n",
      " (367, 0.0),\n",
      " (368, 0.0),\n",
      " (372, 0.0),\n",
      " (373, 0.0),\n",
      " (375, 0.0),\n",
      " (376, 0.0),\n",
      " (377, 0.0),\n",
      " (379, 0.0),\n",
      " (380, 0.0),\n",
      " (382, 0.0),\n",
      " (384, 0.0),\n",
      " (387, 0.0),\n",
      " (388, 0.0),\n",
      " (393, 0.0),\n",
      " (394, 0.0),\n",
      " (396, 0.0),\n",
      " (397, 0.0),\n",
      " (398, 0.0),\n",
      " (399, 0.0),\n",
      " (404, 0.0),\n",
      " (405, 0.0),\n",
      " (410, 0.0),\n",
      " (411, 0.0),\n",
      " (415, 0.0),\n",
      " (418, 0.0),\n",
      " (420, 0.0),\n",
      " (421, 0.0),\n",
      " (422, 0.0),\n",
      " (425, 0.0),\n",
      " (433, 0.0),\n",
      " (437, 0.0),\n",
      " (440, 0.0),\n",
      " (446, 0.0),\n",
      " (449, 0.0),\n",
      " (451, 0.0),\n",
      " (452, 0.0),\n",
      " (454, 0.0),\n",
      " (456, 0.0),\n",
      " (458, 0.0),\n",
      " (460, 0.0),\n",
      " (461, 0.0),\n",
      " (462, 0.0),\n",
      " (466, 0.0),\n",
      " (468, 0.0),\n",
      " (470, 0.0),\n",
      " (471, 0.0),\n",
      " (474, 0.0),\n",
      " (478, 0.0),\n",
      " (480, 0.0),\n",
      " (481, 0.0),\n",
      " (482, 0.0),\n",
      " (483, 0.0),\n",
      " (484, 0.0),\n",
      " (485, 0.0),\n",
      " (486, 0.0),\n",
      " (488, 0.0),\n",
      " (489, 0.0),\n",
      " (490, 0.0),\n",
      " (491, 0.0),\n",
      " (495, 0.0),\n",
      " (496, 0.0),\n",
      " (497, 0.0),\n",
      " (293, -0.0025453875),\n",
      " (255, -0.028311715),\n",
      " (281, -0.029760918),\n",
      " (494, -0.034055393),\n",
      " (14, -0.036695115),\n",
      " (265, -0.038757876),\n",
      " (237, -0.043881968),\n",
      " (12, -0.047519866),\n",
      " (493, -0.050900329),\n",
      " (254, -0.067892238),\n",
      " (294, -0.06896916),\n",
      " (264, -0.072483592),\n",
      " (220, -0.079096086),\n",
      " (300, -0.10333306),\n",
      " (277, -0.10614676),\n",
      " (279, -0.10761838),\n",
      " (430, -0.12334234),\n",
      " (0, -0.12859178),\n",
      " (289, -0.14832751),\n",
      " (278, -0.1515228),\n",
      " (280, -0.1810364)]\n"
     ]
    }
   ],
   "source": [
    "sims = index[doc]\n",
    "#pprint(list(enumerate(sims)))\n",
    "pprint(sorted(list(enumerate(sims)), key=lambda x:x[1], reverse=True))"
   ]
  },
  {
   "cell_type": "markdown",
   "metadata": {},
   "source": [
    "## Latent Dirichlet Allocation - LDA\n",
    "\n",
    "O LDA é uma técnica um pouco mais sofisticada que o LSI, que envolve uma interpretação probabilística do que é uma assunto. Para saber mais, veja este artigo: http://www.jmlr.org/papers/volume3/blei03a/blei03a.pdf"
   ]
  },
  {
   "cell_type": "code",
   "execution_count": 77,
   "metadata": {},
   "outputs": [],
   "source": [
    "lda_model = models.ldamodel.LdaModel(corpus, id2word=dicionario, num_topics=10, passes=10)"
   ]
  },
  {
   "cell_type": "code",
   "execution_count": 78,
   "metadata": {
    "scrolled": false
   },
   "outputs": [
    {
     "data": {
      "text/plain": [
       "[(0,\n",
       "  '0.042*\"virus\" + 0.039*\"Zika\" + 0.016*\"transmission\" + 0.011*\"infection\" + 0.008*\"women\" + 0.008*\"pregnancy\" + 0.007*\"[\\'\" + 0.006*\".\\']\" + 0.006*\"pregnant\" + 0.005*\"disease\"'),\n",
       " (1,\n",
       "  '0.020*\"ZIKV\" + 0.009*\"The\" + 0.009*\"virus\" + 0.007*\"human\" + 0.007*\".\\',\" + 0.006*\"1\" + 0.006*\"cells\" + 0.005*\"viruses\" + 0.005*\"infection\" + 0.005*\"Zika\"'),\n",
       " (2,\n",
       "  '0.011*\"rabbits\" + 0.009*\"The\" + 0.006*\"Aedes\" + 0.006*\"mosquito\" + 0.005*\"days\" + 0.005*\"S\" + 0.005*\"development\" + 0.004*\".\\']\" + 0.004*\"[\\'\" + 0.004*\"fattening\"'),\n",
       " (3,\n",
       "  '0.015*\"YF\" + 0.015*\"antibodies\" + 0.015*\"fever\" + 0.012*\"virus\" + 0.011*\"sera\" + 0.011*\"viruses\" + 0.010*\"antibody\" + 0.009*\"yellow\" + 0.009*\"The\" + 0.008*\"2\"'),\n",
       " (4,\n",
       "  '0.030*\"virus\" + 0.022*\"Zika\" + 0.021*\"ZIKV\" + 0.013*\"The\" + 0.013*\"infection\" + 0.008*\"[\\'\" + 0.008*\".\\']\" + 0.007*\"cases\" + 0.007*\"outbreak\" + 0.007*\"dengue\"'),\n",
       " (5,\n",
       "  '0.018*\"ZIKV\" + 0.010*\"Zika\" + 0.008*\"The\" + 0.008*\"disease\" + 0.007*\"fever\" + 0.007*\"PCR\" + 0.007*\"virus\" + 0.007*\"rabbit\" + 0.006*\"risk\" + 0.005*\"blood\"'),\n",
       " (6,\n",
       "  '0.019*\"virus\" + 0.018*\"Zika\" + 0.015*\"ZIKV\" + 0.009*\"infection\" + 0.009*\"The\" + 0.008*\"microcephaly\" + 0.007*\".\\']\" + 0.007*\"[\\'\" + 0.007*\"dengue\" + 0.005*\"We\"'),\n",
       " (7,\n",
       "  '0.022*\"virus\" + 0.017*\"Zika\" + 0.012*\"ZIKV\" + 0.010*\"infection\" + 0.007*\"1\" + 0.006*\"reported\" + 0.006*\"patients\" + 0.006*\"3\" + 0.006*\"Brazil\" + 0.006*\"),\"'),\n",
       " (8,\n",
       "  '0.017*\"virus\" + 0.012*\"ZIKV\" + 0.008*\"mosquito\" + 0.006*\"Zika\" + 0.006*\"In\" + 0.005*\"infection\" + 0.005*\"The\" + 0.005*\".\\']\" + 0.005*\"[\\'\" + 0.004*\"cases\"'),\n",
       " (9,\n",
       "  '0.027*\"virus\" + 0.019*\"Zika\" + 0.008*\"The\" + 0.007*\"women\" + 0.006*\"February\" + 0.005*\"pregnant\" + 0.005*\"[\\'\" + 0.005*\"patient\" + 0.004*\"disease\" + 0.004*\".\\']\"')]"
      ]
     },
     "execution_count": 78,
     "metadata": {},
     "output_type": "execute_result"
    }
   ],
   "source": [
    "lda_model.show_topics(10)"
   ]
  },
  {
   "cell_type": "code",
   "execution_count": 79,
   "metadata": {
    "collapsed": true
   },
   "outputs": [],
   "source": [
    "lsi.save?"
   ]
  },
  {
   "cell_type": "code",
   "execution_count": null,
   "metadata": {
    "collapsed": true
   },
   "outputs": [],
   "source": []
  }
 ],
 "metadata": {
  "kernelspec": {
   "display_name": "Python 3",
   "language": "python",
   "name": "python3"
  },
  "language_info": {
   "codemirror_mode": {
    "name": "ipython",
    "version": 3
   },
   "file_extension": ".py",
   "mimetype": "text/x-python",
   "name": "python",
   "nbconvert_exporter": "python",
   "pygments_lexer": "ipython3",
   "version": "3.5.2"
  }
 },
 "nbformat": 4,
 "nbformat_minor": 1
}
