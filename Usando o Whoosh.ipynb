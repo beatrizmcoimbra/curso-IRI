{
 "cells": [
  {
   "cell_type": "code",
   "execution_count": 40,
   "metadata": {
    "ExecuteTime": {
     "end_time": "2020-09-28T20:25:48.208680Z",
     "start_time": "2020-09-28T20:25:48.189150Z"
    }
   },
   "outputs": [],
   "source": [
    "import os\n",
    "from whoosh.index import create_in, open_dir\n",
    "from whoosh.fields import *\n",
    "from whoosh.analysis import CharsetFilter, StemmingAnalyzer\n",
    "from whoosh import fields\n",
    "from whoosh.support.charset import accent_map\n",
    "from IPython.core.display import display, HTML"
   ]
  },
  {
   "cell_type": "code",
   "execution_count": 58,
   "metadata": {
    "ExecuteTime": {
     "end_time": "2020-09-28T20:35:58.243813Z",
     "start_time": "2020-09-28T20:35:58.237270Z"
    }
   },
   "outputs": [],
   "source": [
    "my_analyzer = StemmingAnalyzer() | CharsetFilter(accent_map)\n",
    "schema = Schema(content=TEXT(stored=True, analyzer=my_analyzer), tid=TEXT(stored=True))\n",
    "if os.path.exists('indexdir'):\n",
    "    ix = open_dir('indexdir')\n",
    "else:\n",
    "    os.mkdir('indexdir')\n",
    "    ix = create_in(\"indexdir\", schema)"
   ]
  },
  {
   "cell_type": "code",
   "execution_count": 59,
   "metadata": {
    "ExecuteTime": {
     "end_time": "2020-09-28T20:35:59.096875Z",
     "start_time": "2020-09-28T20:35:59.091558Z"
    }
   },
   "outputs": [],
   "source": [
    "import nltk\n",
    "from nltk.corpus import machado"
   ]
  },
  {
   "cell_type": "code",
   "execution_count": 60,
   "metadata": {
    "ExecuteTime": {
     "end_time": "2020-09-28T20:36:00.257625Z",
     "start_time": "2020-09-28T20:35:59.981192Z"
    }
   },
   "outputs": [],
   "source": [
    "textos = [machado.raw(fid) for fid in machado.fileids()]"
   ]
  },
  {
   "cell_type": "code",
   "execution_count": 61,
   "metadata": {
    "ExecuteTime": {
     "end_time": "2020-09-28T20:36:44.540297Z",
     "start_time": "2020-09-28T20:36:01.271715Z"
    }
   },
   "outputs": [],
   "source": [
    "writer = ix.writer()\n",
    "for tid in machado.fileids():\n",
    "    writer.add_document(content=machado.raw(tid), tid=tid)\n",
    "writer.commit()"
   ]
  },
  {
   "cell_type": "code",
   "execution_count": 45,
   "metadata": {
    "ExecuteTime": {
     "end_time": "2020-09-28T20:27:23.813527Z",
     "start_time": "2020-09-28T20:27:23.810344Z"
    }
   },
   "outputs": [],
   "source": [
    "from whoosh.qparser import QueryParser\n"
   ]
  },
  {
   "cell_type": "code",
   "execution_count": 66,
   "metadata": {
    "ExecuteTime": {
     "end_time": "2020-09-28T20:39:59.638148Z",
     "start_time": "2020-09-28T20:39:58.641242Z"
    }
   },
   "outputs": [
    {
     "data": {
      "text/html": [
       "<b>contos/macn010.txt: </ba última gota de <b class=\"match term0\">café</b>, e\n",
       "fitei no meu amigo...Depois compararei <b class=\"match term1\">com</b> o que me contarás.\n",
       "\n",
       " É melhor...quarto um escravo <b class=\"match term1\">com</b> um\n",
       "grande copo de <b class=\"match term2\">leite</b> tirado minutos antes"
      ],
      "text/plain": [
       "<IPython.core.display.HTML object>"
      ]
     },
     "metadata": {},
     "output_type": "display_data"
    },
    {
     "data": {
      "text/html": [
       "<b>contos/macn032.txt: </b<b class=\"match term1\">com</b> familiaridade:\n",
       "\n",
       " <b class=\"match term3\">Com</b> que então tirou a sorte...levantando-se <b class=\"match term1\">com</b> a xícara de <b class=\"match term0\">café</b> na mão e indo assentar...eu mais me entendo <b class=\"match term1\">com</b> a desordem que <b class=\"match term1\">com</b> a ordem.\n",
       "\n",
       " Está excelente"
      ],
      "text/plain": [
       "<IPython.core.display.HTML object>"
      ]
     },
     "metadata": {},
     "output_type": "display_data"
    },
    {
     "data": {
      "text/html": [
       "<b>contos/macn083.txt: </banos: nasceu <b class=\"match term1\">com</b> o século. Traja asseadamente...que gostava muito de <b class=\"match term0\">café</b> <b class=\"match term1\">com</b> <b class=\"match term2\">leite</b>, que tinha vinte e um...Era fácil acabar <b class=\"match term1\">com</b> ela: era casar\n",
       "<b class=\"match term1\">com</b> o Bastinhos. Mas se o Bastinhos"
      ],
      "text/plain": [
       "<IPython.core.display.HTML object>"
      ]
     },
     "metadata": {},
     "output_type": "display_data"
    },
    {
     "data": {
      "text/html": [
       "<b>contos/macn071.txt: </bele entrara em casa <b class=\"match term1\">com</b> o mencionado\n",
       "riso nos...entrou ali em luta <b class=\"match term1\">com</b> os\n",
       "parentes do velho...o sobrinho José <b class=\"match term1\">com</b> um gesto de indignação"
      ],
      "text/plain": [
       "<IPython.core.display.HTML object>"
      ]
     },
     "metadata": {},
     "output_type": "display_data"
    },
    {
     "data": {
      "text/html": [
       "<b>contos/macn134.txt: </ba noite de Natal <b class=\"match term1\">com</b> um amigo no subúrbio...macaco, e, entrando <b class=\"match term1\">com</b> cinco tostões, ganhou...a si mesmo o\n",
       "fato <b class=\"match term1\">com</b> os melhores raciocínios"
      ],
      "text/plain": [
       "<IPython.core.display.HTML object>"
      ]
     },
     "metadata": {},
     "output_type": "display_data"
    },
    {
     "data": {
      "text/html": [
       "<b>cronica/macr12.txt: </bpopular, de acordo <b class=\"match term1\">com</b> o\n",
       "exame da razão, fez da...ofereceu a carregar <b class=\"match term1\">com</b>\n",
       "os pecados de Israel...Podia ser até que, <b class=\"match term1\">com</b> o tempo, viesse a perder"
      ],
      "text/plain": [
       "<IPython.core.display.HTML object>"
      ]
     },
     "metadata": {},
     "output_type": "display_data"
    },
    {
     "data": {
      "text/html": [
       "<b>cronica/macr06.txt: </bromano nada tem <b class=\"match term1\">com</b> a religião\n",
       "  católica...que não tem) <b class=\"match term1\">com</b> a\n",
       "  Itália. O Sr. Vieira Souto...Açula-se o povo <b class=\"match term1\">com</b> grandes idéias, não\n",
       "  <b class=\"match term1\">com</b> rebocos e mãos de cal"
      ],
      "text/plain": [
       "<IPython.core.display.HTML object>"
      ]
     },
     "metadata": {},
     "output_type": "display_data"
    },
    {
     "data": {
      "text/html": [
       "<b>romance/marm07.txt: </bseguimento de outro. <b class=\"match term3\">Com</b>\n",
       "as Memórias Póstumas...prefiro ser\n",
       "franco <b class=\"match term1\">com</b> você a sê-lo <b class=\"match term1\">com</b> qualquer outra pessoa...esqueças de lhe dar <b class=\"match term2\">leite</b>; <b class=\"match term2\">leite</b> e banhos; adeus, adeus"
      ],
      "text/plain": [
       "<IPython.core.display.HTML object>"
      ]
     },
     "metadata": {},
     "output_type": "display_data"
    },
    {
     "data": {
      "text/html": [
       "<b>poesia/maps03.txt: </blhe acabou a vida <b class=\"match term1\">com</b> grande crueldade.\n",
       "\n",
       "VASC...palpita\n",
       "\n",
       "O coração, <b class=\"match term1\">com</b>\n",
       "desusada força,\n",
       "\n",
       "Como...Teu pai mandara,\n",
       "\n",
       "E <b class=\"match term1\">com</b> ele mandou Tupã,\n",
       "que eu"
      ],
      "text/plain": [
       "<IPython.core.display.HTML object>"
      ]
     },
     "metadata": {},
     "output_type": "display_data"
    },
    {
     "data": {
      "text/html": [
       "<b>contos/macn004.txt: </bsentia-se humilhado <b class=\"match term1\">com</b> o papel avulso que exercia...Terei a minha missa, <b class=\"match term1\">com</b> vinho e pão à\n",
       "farta, as...lembrou-se de ir ter <b class=\"match term1\">com</b>\n",
       "Deus para comunicar"
      ],
      "text/plain": [
       "<IPython.core.display.HTML object>"
      ]
     },
     "metadata": {},
     "output_type": "display_data"
    }
   ],
   "source": [
    "qw = 'cafe com leite'\n",
    "qp = QueryParser(\"content\", ix.schema)\n",
    "query = qp.parse(qw)\n",
    "with ix.searcher() as searcher:\n",
    "    results = searcher.search(query)\n",
    "    for hit in results:\n",
    "        tid = hit.fields()['tid']\n",
    "        display(HTML(f'<b>{tid}: </b'+ hit.highlights(\"content\")))"
   ]
  },
  {
   "cell_type": "code",
   "execution_count": null,
   "metadata": {
    "ExecuteTime": {
     "end_time": "2020-09-28T20:37:52.872160Z",
     "start_time": "2020-09-28T20:37:52.848614Z"
    }
   },
   "outputs": [],
   "source": []
  },
  {
   "cell_type": "code",
   "execution_count": null,
   "metadata": {},
   "outputs": [],
   "source": []
  }
 ],
 "metadata": {
  "kernelspec": {
   "display_name": "Python 3",
   "language": "python",
   "name": "python3"
  },
  "language_info": {
   "codemirror_mode": {
    "name": "ipython",
    "version": 3
   },
   "file_extension": ".py",
   "mimetype": "text/x-python",
   "name": "python",
   "nbconvert_exporter": "python",
   "pygments_lexer": "ipython3",
   "version": "3.8.5"
  },
  "latex_envs": {
   "LaTeX_envs_menu_present": true,
   "autoclose": false,
   "autocomplete": true,
   "bibliofile": "biblio.bib",
   "cite_by": "apalike",
   "current_citInitial": 1,
   "eqLabelWithNumbers": true,
   "eqNumInitial": 1,
   "hotkeys": {
    "equation": "Ctrl-E",
    "itemize": "Ctrl-I"
   },
   "labels_anchors": false,
   "latex_user_defs": false,
   "report_style_numbering": false,
   "user_envs_cfg": false
  },
  "toc": {
   "base_numbering": 1,
   "nav_menu": {},
   "number_sections": true,
   "sideBar": true,
   "skip_h1_title": false,
   "title_cell": "Table of Contents",
   "title_sidebar": "Contents",
   "toc_cell": false,
   "toc_position": {},
   "toc_section_display": true,
   "toc_window_display": false
  },
  "varInspector": {
   "cols": {
    "lenName": 16,
    "lenType": 16,
    "lenVar": 40
   },
   "kernels_config": {
    "python": {
     "delete_cmd_postfix": "",
     "delete_cmd_prefix": "del ",
     "library": "var_list.py",
     "varRefreshCmd": "print(var_dic_list())"
    },
    "r": {
     "delete_cmd_postfix": ") ",
     "delete_cmd_prefix": "rm(",
     "library": "var_list.r",
     "varRefreshCmd": "cat(var_dic_list()) "
    }
   },
   "types_to_exclude": [
    "module",
    "function",
    "builtin_function_or_method",
    "instance",
    "_Feature"
   ],
   "window_display": false
  }
 },
 "nbformat": 4,
 "nbformat_minor": 1
}
