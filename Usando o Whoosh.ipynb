{
 "cells": [
  {
   "cell_type": "code",
   "execution_count": 1,
   "metadata": {
    "ExecuteTime": {
     "end_time": "2020-09-28T16:59:32.372224Z",
     "start_time": "2020-09-28T16:59:32.343185Z"
    }
   },
   "outputs": [],
   "source": [
    "import os\n",
    "from whoosh.index import create_in, open_dir\n",
    "from whoosh.fields import *\n",
    "from IPython.core.display import display, HTML"
   ]
  },
  {
   "cell_type": "code",
   "execution_count": 11,
   "metadata": {
    "ExecuteTime": {
     "end_time": "2020-09-28T17:01:00.743897Z",
     "start_time": "2020-09-28T17:01:00.732030Z"
    }
   },
   "outputs": [],
   "source": [
    "schema = Schema(content=TEXT(stored=True))\n",
    "if os.path.exists('indexdir'):\n",
    "    ix = open_dir('indexdir')\n",
    "else:\n",
    "    os.mkdir('indexdir')\n",
    "    ix = create_in(\"indexdir\", schema)"
   ]
  },
  {
   "cell_type": "code",
   "execution_count": 12,
   "metadata": {
    "ExecuteTime": {
     "end_time": "2020-09-28T17:01:01.774465Z",
     "start_time": "2020-09-28T17:01:01.766255Z"
    }
   },
   "outputs": [],
   "source": [
    "import nltk\n",
    "from nltk.corpus import machado"
   ]
  },
  {
   "cell_type": "code",
   "execution_count": 13,
   "metadata": {
    "ExecuteTime": {
     "end_time": "2020-09-28T17:01:02.551296Z",
     "start_time": "2020-09-28T17:01:02.423758Z"
    }
   },
   "outputs": [],
   "source": [
    "textos = [machado.raw(fid) for fid in machado.fileids()]"
   ]
  },
  {
   "cell_type": "code",
   "execution_count": 14,
   "metadata": {
    "ExecuteTime": {
     "end_time": "2020-09-28T17:01:18.287913Z",
     "start_time": "2020-09-28T17:01:06.377405Z"
    }
   },
   "outputs": [],
   "source": [
    "writer = ix.writer()\n",
    "for txt in textos:\n",
    "    writer.add_document(content=txt)\n",
    "writer.commit()"
   ]
  },
  {
   "cell_type": "code",
   "execution_count": 15,
   "metadata": {
    "ExecuteTime": {
     "end_time": "2020-09-28T17:01:20.307117Z",
     "start_time": "2020-09-28T17:01:20.304933Z"
    }
   },
   "outputs": [],
   "source": [
    "from whoosh.qparser import QueryParser"
   ]
  },
  {
   "cell_type": "code",
   "execution_count": 31,
   "metadata": {
    "ExecuteTime": {
     "end_time": "2020-09-28T17:06:17.776358Z",
     "start_time": "2020-09-28T17:06:17.615257Z"
    }
   },
   "outputs": [
    {
     "name": "stdout",
     "output_type": "stream",
     "text": [
      "{0, 1, 2, 3, 4, 5, 6, 131, 133, 9, 12, 13, 140, 19, 24, 27, 29, 30, 31, 35, 36, 39, 40, 42, 43, 45, 49, 51, 54, 55, 56, 183, 185, 187, 188, 190, 191, 193, 67, 196, 70, 77, 205, 82, 84, 85, 87, 218, 219, 94, 222, 96, 223, 224, 225, 100, 226, 227, 103, 104, 228, 229, 107, 230, 231, 232, 234, 114, 244, 245, 125, 127}\n"
     ]
    },
    {
     "data": {
      "text/html": [
       "<b>0. </bpediu\n",
       "uma xícara de <b class=\"match term0\">café</b>. Tratava-se nem da Chiquinha...muito\n",
       "séria. Veio o <b class=\"match term0\">café</b>, fez um cigarro, enquanto...das belezas.\n",
       "\n",
       " Mais <b class=\"match term0\">café</b>, disse Gonçalves.\n",
       "\n",
       " Não"
      ],
      "text/plain": [
       "<IPython.core.display.HTML object>"
      ]
     },
     "metadata": {},
     "output_type": "display_data"
    },
    {
     "data": {
      "text/html": [
       "<b>1. </bplantações de <b class=\"match term0\">café</b>, e vastíssimas florestas...a primeira xícara de\n",
       "<b class=\"match term0\">café</b>, Marcondes disparou...em corpo e alma no <b class=\"match term0\">café</b>\n",
       "e no açúcar? Disseram"
      ],
      "text/plain": [
       "<IPython.core.display.HTML object>"
      ]
     },
     "metadata": {},
     "output_type": "display_data"
    },
    {
     "data": {
      "text/html": [
       "<b>2. </blevou-lhe o criado o\n",
       "<b class=\"match term0\">café</b> do costume, e na ocasião...trazer uma xícara de\n",
       "<b class=\"match term0\">café</b> ao Sr. Alvarenga.\n",
       "\n",
       " <b class=\"match term1\">Café</b>? disse este. Não recuso...acabara de tomar o\n",
       "<b class=\"match term0\">café</b>, ao qual fez um novo elogio"
      ],
      "text/plain": [
       "<IPython.core.display.HTML object>"
      ]
     },
     "metadata": {},
     "output_type": "display_data"
    },
    {
     "data": {
      "text/html": [
       "<b>3. </btomar <b class=\"match term0\">café</b>\n",
       "nem pimenta é o limite...não tome pimenta nem\n",
       "<b class=\"match term0\">café</b>.\n",
       "\n",
       "A leitora que acaba...e bebeu excelente <b class=\"match term0\">café</b> no fim. Não admira porque"
      ],
      "text/plain": [
       "<IPython.core.display.HTML object>"
      ]
     },
     "metadata": {},
     "output_type": "display_data"
    },
    {
     "data": {
      "text/html": [
       "<b>4. </bdo tanque e\n",
       "tomado o <b class=\"match term0\">café</b>, procurou os jornais...a lê-los, entre o <b class=\"match term0\">café</b> e o\n",
       "almoço, que não pôde...com um\n",
       "comissário de <b class=\"match term0\">café</b>. Pensou nisso; pensou"
      ],
      "text/plain": [
       "<IPython.core.display.HTML object>"
      ]
     },
     "metadata": {},
     "output_type": "display_data"
    },
    {
     "data": {
      "text/html": [
       "<b>5. </bchávena de excelente <b class=\"match term0\">café</b>. O tempo estava frio...a última gota de <b class=\"match term0\">café</b>, e\n",
       "fitei no meu amigo...nova porção de <b class=\"match term0\">café</b>. Tomamo-lo entre recordações"
      ],
      "text/plain": [
       "<IPython.core.display.HTML object>"
      ]
     },
     "metadata": {},
     "output_type": "display_data"
    },
    {
     "data": {
      "text/html": [
       "<b>6. </bde que lhe falou no <b class=\"match term0\">café</b> de\n",
       "manhã?\n",
       "\n",
       "Evidentemente...saboreou um\n",
       "gole de <b class=\"match term0\">café</b> e continuou:\n",
       "\n",
       " O Alves...Outro gole de\n",
       "<b class=\"match term0\">café</b>.\n",
       "\n",
       " A minha\n",
       "consciência"
      ],
      "text/plain": [
       "<IPython.core.display.HTML object>"
      ]
     },
     "metadata": {},
     "output_type": "display_data"
    },
    {
     "data": {
      "text/html": [
       "<b>7. </bcomo, entrou em um <b class=\"match term1\">Café</b>. Pediu alguma coisa...a última gota de <b class=\"match term0\">café</b>, sem\n",
       "reparar que estava"
      ],
      "text/plain": [
       "<IPython.core.display.HTML object>"
      ]
     },
     "metadata": {},
     "output_type": "display_data"
    },
    {
     "data": {
      "text/html": [
       "<b>8. </bdele, falaram do\n",
       "<b class=\"match term0\">café</b> e dos escravos. Mariana...a falar, não só do <b class=\"match term0\">café</b>, como de outros assuntos"
      ],
      "text/plain": [
       "<IPython.core.display.HTML object>"
      ]
     },
     "metadata": {},
     "output_type": "display_data"
    },
    {
     "data": {
      "text/html": [
       "<b>9. </bque gostava muito de <b class=\"match term0\">café</b> com leite, que tinha...braço, levou-o a um <b class=\"match term0\">café</b>.\n",
       "\n",
       " Mas que diabo queres...Assim fez; tomado o <b class=\"match term0\">café</b>, pediu ao\n",
       "major uns cinco"
      ],
      "text/plain": [
       "<IPython.core.display.HTML object>"
      ]
     },
     "metadata": {},
     "output_type": "display_data"
    }
   ],
   "source": [
    "\n",
    "qw = \"café\"\n",
    "qp = QueryParser(\"content\", ix.schema)\n",
    "query = qp.parse(qw)\n",
    "with ix.searcher() as searcher:\n",
    "    results = searcher.search(query)\n",
    "    print(results.docs())\n",
    "    for n,hit in enumerate(results):\n",
    "        display(HTML(f'<b>{n}. </b'+ hit.highlights(\"content\")))"
   ]
  },
  {
   "cell_type": "code",
   "execution_count": null,
   "metadata": {},
   "outputs": [],
   "source": []
  },
  {
   "cell_type": "code",
   "execution_count": null,
   "metadata": {},
   "outputs": [],
   "source": []
  }
 ],
 "metadata": {
  "kernelspec": {
   "display_name": "Python 3",
   "language": "python",
   "name": "python3"
  },
  "language_info": {
   "codemirror_mode": {
    "name": "ipython",
    "version": 3
   },
   "file_extension": ".py",
   "mimetype": "text/x-python",
   "name": "python",
   "nbconvert_exporter": "python",
   "pygments_lexer": "ipython3",
   "version": "3.8.5"
  },
  "latex_envs": {
   "LaTeX_envs_menu_present": true,
   "autoclose": false,
   "autocomplete": true,
   "bibliofile": "biblio.bib",
   "cite_by": "apalike",
   "current_citInitial": 1,
   "eqLabelWithNumbers": true,
   "eqNumInitial": 1,
   "hotkeys": {
    "equation": "Ctrl-E",
    "itemize": "Ctrl-I"
   },
   "labels_anchors": false,
   "latex_user_defs": false,
   "report_style_numbering": false,
   "user_envs_cfg": false
  },
  "toc": {
   "base_numbering": 1,
   "nav_menu": {},
   "number_sections": true,
   "sideBar": true,
   "skip_h1_title": false,
   "title_cell": "Table of Contents",
   "title_sidebar": "Contents",
   "toc_cell": false,
   "toc_position": {},
   "toc_section_display": true,
   "toc_window_display": false
  },
  "varInspector": {
   "cols": {
    "lenName": 16,
    "lenType": 16,
    "lenVar": 40
   },
   "kernels_config": {
    "python": {
     "delete_cmd_postfix": "",
     "delete_cmd_prefix": "del ",
     "library": "var_list.py",
     "varRefreshCmd": "print(var_dic_list())"
    },
    "r": {
     "delete_cmd_postfix": ") ",
     "delete_cmd_prefix": "rm(",
     "library": "var_list.r",
     "varRefreshCmd": "cat(var_dic_list()) "
    }
   },
   "types_to_exclude": [
    "module",
    "function",
    "builtin_function_or_method",
    "instance",
    "_Feature"
   ],
   "window_display": false
  }
 },
 "nbformat": 4,
 "nbformat_minor": 1
}
