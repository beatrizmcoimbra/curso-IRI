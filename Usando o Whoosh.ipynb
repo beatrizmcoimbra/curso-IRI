{
 "cells": [
  {
   "cell_type": "code",
   "execution_count": 6,
   "metadata": {
    "ExecuteTime": {
     "end_time": "2021-09-28T17:34:54.394313Z",
     "start_time": "2021-09-28T17:34:54.390502Z"
    }
   },
   "outputs": [],
   "source": [
    "import os\n",
    "from whoosh.index import create_in, open_dir\n",
    "from whoosh.fields import *\n",
    "from whoosh.analysis import CharsetFilter, StemmingAnalyzer\n",
    "from whoosh import fields\n",
    "from whoosh.support.charset import accent_map\n",
    "from IPython.core.display import display, HTML"
   ]
  },
  {
   "cell_type": "markdown",
   "metadata": {},
   "source": [
    "O [Whoosh](https://whoosh.readthedocs.io/en/latest/analysis.html#overview) é uma biblioteca em Python para indexação de textos."
   ]
  },
  {
   "cell_type": "code",
   "execution_count": 8,
   "metadata": {
    "ExecuteTime": {
     "end_time": "2021-09-28T17:43:59.696974Z",
     "start_time": "2021-09-28T17:43:59.690492Z"
    }
   },
   "outputs": [],
   "source": [
    "my_analyzer = StemmingAnalyzer() | CharsetFilter(accent_map)\n",
    "schema = Schema(content=TEXT(stored=True, analyzer=my_analyzer), tid=TEXT(stored=True))\n",
    "if os.path.exists('indexdir'):\n",
    "    ix = open_dir('indexdir')\n",
    "else:\n",
    "    os.mkdir('indexdir')\n",
    "    ix = create_in(\"indexdir\", schema)"
   ]
  },
  {
   "cell_type": "code",
   "execution_count": 10,
   "metadata": {
    "ExecuteTime": {
     "end_time": "2021-09-28T17:44:50.952268Z",
     "start_time": "2021-09-28T17:44:50.946067Z"
    }
   },
   "outputs": [],
   "source": [
    "import nltk\n",
    "from nltk.corpus import machado"
   ]
  },
  {
   "cell_type": "code",
   "execution_count": 11,
   "metadata": {
    "ExecuteTime": {
     "end_time": "2021-09-28T17:44:57.217525Z",
     "start_time": "2021-09-28T17:44:57.033969Z"
    }
   },
   "outputs": [],
   "source": [
    "textos = [machado.raw(fid) for fid in machado.fileids()]"
   ]
  },
  {
   "cell_type": "code",
   "execution_count": 12,
   "metadata": {
    "ExecuteTime": {
     "end_time": "2021-09-28T17:46:41.079894Z",
     "start_time": "2021-09-28T17:46:11.257803Z"
    }
   },
   "outputs": [],
   "source": [
    "writer = ix.writer()\n",
    "for tid in machado.fileids():\n",
    "    writer.add_document(content=machado.raw(tid), tid=tid)\n",
    "writer.commit()"
   ]
  },
  {
   "cell_type": "code",
   "execution_count": 13,
   "metadata": {
    "ExecuteTime": {
     "end_time": "2021-09-28T17:47:30.058872Z",
     "start_time": "2021-09-28T17:47:30.030759Z"
    }
   },
   "outputs": [],
   "source": [
    "from whoosh.qparser import QueryParser\n"
   ]
  },
  {
   "cell_type": "code",
   "execution_count": 18,
   "metadata": {
    "ExecuteTime": {
     "end_time": "2021-09-28T17:53:08.553187Z",
     "start_time": "2021-09-28T17:53:08.024042Z"
    }
   },
   "outputs": [
    {
     "data": {
      "text/html": [
       "<b>macn010.txt: </bque se me convidava <b class=\"match term0\">com</b> instância a vir a esta...a última gota de <b class=\"match term1\">café</b>, e\n",
       "fitei no meu amigo...quarto um escravo <b class=\"match term0\">com</b> um\n",
       "grande copo de <b class=\"match term2\">leite</b> tirado minutos antes"
      ],
      "text/plain": [
       "<IPython.core.display.HTML object>"
      ]
     },
     "metadata": {},
     "output_type": "display_data"
    },
    {
     "data": {
      "text/html": [
       "<b>macn010.txt: </be a cada gota de <b class=\"match term1\">café</b> que tomava fazia uma...a última gota de <b class=\"match term1\">café</b>, e\n",
       "fitei no meu amigo...quarto um escravo <b class=\"match term0\">com</b> um\n",
       "grande copo de <b class=\"match term2\">leite</b> tirado minutos antes"
      ],
      "text/plain": [
       "<IPython.core.display.HTML object>"
      ]
     },
     "metadata": {},
     "output_type": "display_data"
    },
    {
     "data": {
      "text/html": [
       "<b>macn032.txt: </b<b class=\"match term0\">com</b> familiaridade:\n",
       "\n",
       " <b class=\"match term3\">Com</b> que então tirou a sorte...levantando-se <b class=\"match term0\">com</b> a xícara de <b class=\"match term1\">café</b> na mão e indo assentar...eu mais me entendo <b class=\"match term0\">com</b> a desordem que <b class=\"match term0\">com</b> a ordem.\n",
       "\n",
       " Está excelente"
      ],
      "text/plain": [
       "<IPython.core.display.HTML object>"
      ]
     },
     "metadata": {},
     "output_type": "display_data"
    },
    {
     "data": {
      "text/html": [
       "<b>macn032.txt: </b<b class=\"match term0\">com</b> familiaridade:\n",
       "\n",
       " <b class=\"match term3\">Com</b> que então tirou a sorte...levantando-se <b class=\"match term0\">com</b> a xícara de <b class=\"match term1\">café</b> na mão e indo assentar...eu mais me entendo <b class=\"match term0\">com</b> a desordem que <b class=\"match term0\">com</b> a ordem.\n",
       "\n",
       " Está excelente"
      ],
      "text/plain": [
       "<IPython.core.display.HTML object>"
      ]
     },
     "metadata": {},
     "output_type": "display_data"
    },
    {
     "data": {
      "text/html": [
       "<b>macn083.txt: </banos: nasceu <b class=\"match term0\">com</b> o século. Traja asseadamente...que gostava muito de <b class=\"match term1\">café</b> <b class=\"match term0\">com</b> <b class=\"match term2\">leite</b>, que tinha vinte e um...Era fácil acabar <b class=\"match term0\">com</b> ela: era casar\n",
       "<b class=\"match term0\">com</b> o Bastinhos. Mas se o Bastinhos"
      ],
      "text/plain": [
       "<IPython.core.display.HTML object>"
      ]
     },
     "metadata": {},
     "output_type": "display_data"
    },
    {
     "data": {
      "text/html": [
       "<b>macn083.txt: </bou franziria a testa <b class=\"match term0\">com</b>\n",
       "desdém.  Madrugada! era...que gostava muito de <b class=\"match term1\">café</b> <b class=\"match term0\">com</b> <b class=\"match term2\">leite</b>, que tinha vinte e um...Era fácil acabar <b class=\"match term0\">com</b> ela: era casar\n",
       "<b class=\"match term0\">com</b> o Bastinhos. Mas se o Bastinhos"
      ],
      "text/plain": [
       "<IPython.core.display.HTML object>"
      ]
     },
     "metadata": {},
     "output_type": "display_data"
    },
    {
     "data": {
      "text/html": [
       "<b>macn071.txt: </bentrou ali em luta <b class=\"match term0\">com</b> os\n",
       "parentes do velho...os cuidados\n",
       "não só <b class=\"match term0\">com</b> boas palavras, mas também...de ferro. Acordava <b class=\"match term0\">com</b> a aurora\n",
       "e punha logo"
      ],
      "text/plain": [
       "<IPython.core.display.HTML object>"
      ]
     },
     "metadata": {},
     "output_type": "display_data"
    },
    {
     "data": {
      "text/html": [
       "<b>macn071.txt: </bele entrara em casa <b class=\"match term0\">com</b> o mencionado\n",
       "riso nos...branco,\n",
       "um branco de <b class=\"match term2\">leite</b>, puro e de encher o olho...entrou ali em luta <b class=\"match term0\">com</b> os\n",
       "parentes do velho"
      ],
      "text/plain": [
       "<IPython.core.display.HTML object>"
      ]
     },
     "metadata": {},
     "output_type": "display_data"
    },
    {
     "data": {
      "text/html": [
       "<b>macn134.txt: </bmelhor da\n",
       "febre <b class=\"match term0\">com</b> o quinino que a mulher...e somou\n",
       "lentamente, <b class=\"match term0\">com</b> cuidado para não errar...mentira,  uma turra <b class=\"match term0\">com</b> o chefe da seção,  coisa"
      ],
      "text/plain": [
       "<IPython.core.display.HTML object>"
      ]
     },
     "metadata": {},
     "output_type": "display_data"
    },
    {
     "data": {
      "text/html": [
       "<b>macn134.txt: </ba noite de Natal <b class=\"match term0\">com</b> um amigo no subúrbio...ama, tanto era o <b class=\"match term2\">leite</b>, e tamanha a robustez...Camilo foi\n",
       "ter <b class=\"match term0\">com</b> o ministro e disse:\n",
       "\n",
       " Veja"
      ],
      "text/plain": [
       "<IPython.core.display.HTML object>"
      ]
     },
     "metadata": {},
     "output_type": "display_data"
    }
   ],
   "source": [
    "qw = 'cafe com leite'\n",
    "qp = QueryParser(\"content\", ix.schema)\n",
    "query = qp.parse(qw)\n",
    "with ix.searcher() as searcher:\n",
    "    results = searcher.search(query)\n",
    "    for hit in results:\n",
    "        tid = hit.fields()['tid']\n",
    "        display(HTML(f'<b>{tid.split(\"/\")[1]}: </b'+ hit.highlights(\"content\")))"
   ]
  },
  {
   "cell_type": "code",
   "execution_count": null,
   "metadata": {
    "ExecuteTime": {
     "end_time": "2020-09-28T20:37:52.872160Z",
     "start_time": "2020-09-28T20:37:52.848614Z"
    }
   },
   "outputs": [],
   "source": []
  },
  {
   "cell_type": "code",
   "execution_count": null,
   "metadata": {},
   "outputs": [],
   "source": []
  }
 ],
 "metadata": {
  "hide_input": false,
  "kernelspec": {
   "display_name": "Python 3",
   "language": "python",
   "name": "python3"
  },
  "language_info": {
   "codemirror_mode": {
    "name": "ipython",
    "version": 3
   },
   "file_extension": ".py",
   "mimetype": "text/x-python",
   "name": "python",
   "nbconvert_exporter": "python",
   "pygments_lexer": "ipython3",
   "version": "3.8.10"
  },
  "latex_envs": {
   "LaTeX_envs_menu_present": true,
   "autoclose": false,
   "autocomplete": true,
   "bibliofile": "biblio.bib",
   "cite_by": "apalike",
   "current_citInitial": 1,
   "eqLabelWithNumbers": true,
   "eqNumInitial": 1,
   "hotkeys": {
    "equation": "Ctrl-E",
    "itemize": "Ctrl-I"
   },
   "labels_anchors": false,
   "latex_user_defs": false,
   "report_style_numbering": false,
   "user_envs_cfg": false
  },
  "nbTranslate": {
   "displayLangs": [
    "*"
   ],
   "hotkey": "alt-t",
   "langInMainMenu": true,
   "sourceLang": "en",
   "targetLang": "fr",
   "useGoogleTranslate": true
  },
  "toc": {
   "base_numbering": 1,
   "nav_menu": {},
   "number_sections": true,
   "sideBar": true,
   "skip_h1_title": false,
   "title_cell": "Table of Contents",
   "title_sidebar": "Contents",
   "toc_cell": false,
   "toc_position": {},
   "toc_section_display": true,
   "toc_window_display": false
  },
  "varInspector": {
   "cols": {
    "lenName": 16,
    "lenType": 16,
    "lenVar": 40
   },
   "kernels_config": {
    "python": {
     "delete_cmd_postfix": "",
     "delete_cmd_prefix": "del ",
     "library": "var_list.py",
     "varRefreshCmd": "print(var_dic_list())"
    },
    "r": {
     "delete_cmd_postfix": ") ",
     "delete_cmd_prefix": "rm(",
     "library": "var_list.r",
     "varRefreshCmd": "cat(var_dic_list()) "
    }
   },
   "types_to_exclude": [
    "module",
    "function",
    "builtin_function_or_method",
    "instance",
    "_Feature"
   ],
   "window_display": false
  }
 },
 "nbformat": 4,
 "nbformat_minor": 1
}
