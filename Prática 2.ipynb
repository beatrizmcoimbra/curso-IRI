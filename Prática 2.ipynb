{
 "cells": [
  {
   "cell_type": "markdown",
   "metadata": {},
   "source": [
    "# Similaridade por Cosseno\n",
    "\n",
    "Neste documento, vamos explorar o conceito de similaridade de documentos por cosseno."
   ]
  },
  {
   "cell_type": "code",
   "execution_count": 22,
   "metadata": {
    "ExecuteTime": {
     "end_time": "2020-10-26T15:33:38.105250Z",
     "start_time": "2020-10-26T15:33:38.100461Z"
    }
   },
   "outputs": [],
   "source": [
    "from nltk.corpus import machado\n",
    "from nltk.tokenize import WordPunctTokenizer\n",
    "from nltk.corpus import stopwords\n",
    "import string\n",
    "import numpy as np\n",
    "from collections import defaultdict\n",
    "from nltk.stem.snowball import PortugueseStemmer\n",
    "import nltk\n",
    "from matplotlib import pyplot as plt\n",
    "plt.rcParams['figure.figsize']= (10,10)\n",
    "%matplotlib inline"
   ]
  },
  {
   "cell_type": "markdown",
   "metadata": {},
   "source": [
    "Vamos começar importando os textos de Machado de Assis"
   ]
  },
  {
   "cell_type": "code",
   "execution_count": 2,
   "metadata": {
    "ExecuteTime": {
     "end_time": "2020-10-26T15:32:03.061550Z",
     "start_time": "2020-10-26T15:32:02.916197Z"
    }
   },
   "outputs": [
    {
     "data": {
      "text/plain": [
       "246"
      ]
     },
     "execution_count": 2,
     "metadata": {},
     "output_type": "execute_result"
    }
   ],
   "source": [
    "textos = [machado.raw(id) for id in machado.fileids()]\n",
    "len(textos)"
   ]
  },
  {
   "cell_type": "code",
   "execution_count": 3,
   "metadata": {
    "ExecuteTime": {
     "end_time": "2020-10-26T15:32:04.504367Z",
     "start_time": "2020-10-26T15:32:03.776019Z"
    }
   },
   "outputs": [],
   "source": [
    "tok_textos = [WordPunctTokenizer().tokenize(t.lower()) for t in textos]"
   ]
  },
  {
   "cell_type": "code",
   "execution_count": 4,
   "metadata": {
    "ExecuteTime": {
     "end_time": "2020-10-26T15:32:05.424221Z",
     "start_time": "2020-10-26T15:32:05.415443Z"
    }
   },
   "outputs": [
    {
     "data": {
      "text/plain": [
       "7483"
      ]
     },
     "execution_count": 4,
     "metadata": {},
     "output_type": "execute_result"
    }
   ],
   "source": [
    "len(set(tok_textos[0]))"
   ]
  },
  {
   "cell_type": "markdown",
   "metadata": {},
   "source": [
    "Depois de tokenizar, vamos extrair o vocabulário dos textos"
   ]
  },
  {
   "cell_type": "code",
   "execution_count": 5,
   "metadata": {
    "ExecuteTime": {
     "end_time": "2020-10-26T15:32:06.921740Z",
     "start_time": "2020-10-26T15:32:06.362283Z"
    }
   },
   "outputs": [
    {
     "name": "stdout",
     "output_type": "stream",
     "text": [
      "66169\n"
     ]
    }
   ],
   "source": [
    "vocab = set([])\n",
    "for t in tok_textos:\n",
    "    vocab = vocab.union(set(t))\n",
    "#vocab = list(set(vocab))\n",
    "print(len(vocab))\n",
    "#vocab"
   ]
  },
  {
   "cell_type": "markdown",
   "metadata": {},
   "source": [
    "Agora vamos criar uma coleção de textos, para poder utilizar os métods definidos para esta classe."
   ]
  },
  {
   "cell_type": "code",
   "execution_count": 6,
   "metadata": {
    "ExecuteTime": {
     "end_time": "2020-10-26T15:32:08.175366Z",
     "start_time": "2020-10-26T15:32:07.935199Z"
    }
   },
   "outputs": [],
   "source": [
    "T = nltk.TextCollection(tok_textos)"
   ]
  },
  {
   "cell_type": "code",
   "execution_count": 7,
   "metadata": {
    "ExecuteTime": {
     "end_time": "2020-10-26T15:32:09.145639Z",
     "start_time": "2020-10-26T15:32:09.135178Z"
    }
   },
   "outputs": [
    {
     "data": {
      "text/plain": [
       "0.20701416938432612"
      ]
     },
     "execution_count": 7,
     "metadata": {},
     "output_type": "execute_result"
    }
   ],
   "source": [
    "T.idf(\"mão\")"
   ]
  },
  {
   "cell_type": "code",
   "execution_count": 8,
   "metadata": {
    "ExecuteTime": {
     "end_time": "2020-10-26T15:32:10.114202Z",
     "start_time": "2020-10-26T15:32:10.109448Z"
    }
   },
   "outputs": [
    {
     "data": {
      "text/plain": [
       "0.00011540605651963488"
      ]
     },
     "execution_count": 8,
     "metadata": {},
     "output_type": "execute_result"
    }
   ],
   "source": [
    "T.tf_idf(\"mão\",tok_textos[2])"
   ]
  },
  {
   "cell_type": "code",
   "execution_count": 9,
   "metadata": {
    "ExecuteTime": {
     "end_time": "2020-10-26T15:32:11.092402Z",
     "start_time": "2020-10-26T15:32:11.086775Z"
    }
   },
   "outputs": [
    {
     "data": {
      "text/plain": [
       "0.0005574790211842028"
      ]
     },
     "execution_count": 9,
     "metadata": {},
     "output_type": "execute_result"
    }
   ],
   "source": [
    "T.tf(\"mão\",tok_textos[2])"
   ]
  },
  {
   "cell_type": "markdown",
   "metadata": {},
   "source": [
    "Vamos agora fazer uma consulta e tokenizá-la"
   ]
  },
  {
   "cell_type": "code",
   "execution_count": 10,
   "metadata": {
    "ExecuteTime": {
     "end_time": "2020-10-26T15:32:12.054642Z",
     "start_time": "2020-10-26T15:32:12.052347Z"
    }
   },
   "outputs": [],
   "source": [
    "q = \"Lamartine elixir harpa\"\n",
    "qt = WordPunctTokenizer().tokenize(q.lower())"
   ]
  },
  {
   "cell_type": "markdown",
   "metadata": {},
   "source": [
    "Agora vamos calcular o tfidf dos termos da nossa consulta em cada documento."
   ]
  },
  {
   "cell_type": "code",
   "execution_count": 11,
   "metadata": {
    "ExecuteTime": {
     "end_time": "2020-10-26T15:32:13.976848Z",
     "start_time": "2020-10-26T15:32:13.688205Z"
    }
   },
   "outputs": [
    {
     "name": "stdout",
     "output_type": "stream",
     "text": [
      "(246, 3)\n"
     ]
    },
    {
     "data": {
      "text/plain": [
       "array([[4.34449734e-05, 9.51658288e-05, 4.12277118e-05],\n",
       "       [0.00000000e+00, 0.00000000e+00, 0.00000000e+00],\n",
       "       [0.00000000e+00, 0.00000000e+00, 0.00000000e+00]])"
      ]
     },
     "execution_count": 11,
     "metadata": {},
     "output_type": "execute_result"
    }
   ],
   "source": [
    "tfidf_matrix = np.empty((len(tok_textos),len(qt)))\n",
    "for j,w in enumerate(qt):\n",
    "    for i, d in enumerate(tok_textos):\n",
    "        tfidf_matrix[i,j] = T.tf_idf(w,d)\n",
    "print(tfidf_matrix.shape)\n",
    "tfidf_matrix[:3,:]"
   ]
  },
  {
   "cell_type": "markdown",
   "metadata": {},
   "source": [
    "Já vimos que a similaridade entre dois cossenos é dada por:\n",
    "\n",
    "$$\\text{similarity} = \\cos(\\theta) = {\\mathbf{A} \\cdot \\mathbf{B} \\over \\|\\mathbf{A}\\| \\|\\mathbf{B}\\|} = \\frac{ \\sum\\limits_{i=1}^{n}{A_i  B_i} }{ \\sqrt{\\sum\\limits_{i=1}^{n}{A_i^2}}  \\sqrt{\\sum\\limits_{i=1}^{n}{B_i^2}} }$$\n",
    "\n",
    "Vamos calcular a norma L2 da matriz de tf-idf:\n",
    "$||A||_F = \\sqrt{\\sum_{i} |A_{i}|^2}$"
   ]
  },
  {
   "cell_type": "code",
   "execution_count": 12,
   "metadata": {
    "ExecuteTime": {
     "end_time": "2020-10-26T15:32:15.826697Z",
     "start_time": "2020-10-26T15:32:15.816466Z"
    }
   },
   "outputs": [
    {
     "data": {
      "text/plain": [
       "[(0.9682890893638976, 185),\n",
       " (0.9435141616147088, 0),\n",
       " (0.7829790191435612, 4),\n",
       " (0.7441638578314829, 217),\n",
       " (0.6785027829609526, 193),\n",
       " (0.6220481135579361, 238),\n",
       " (0.6220481135579361, 229),\n",
       " (0.6220481135579361, 138),\n",
       " (0.6220481135579361, 85),\n",
       " (0.6220481135579361, 41),\n",
       " (0.6220481135579361, 32),\n",
       " (0.6175088287668101, 222),\n",
       " (0.5679531000916818, 232),\n",
       " (0.5679531000916818, 194),\n",
       " (0.5679531000916818, 176),\n",
       " (0.5679531000916818, 152),\n",
       " (0.5679531000916818, 125),\n",
       " (0.5679531000916818, 16),\n",
       " (0.5389669939015386, 240),\n",
       " (0.5389669939015386, 218),\n",
       " (0.5389669939015386, 216),\n",
       " (0.5389669939015386, 186),\n",
       " (0.5389669939015386, 184),\n",
       " (0.5389669939015386, 165),\n",
       " (0.5389669939015386, 147),\n",
       " (0.5389669939015386, 139),\n",
       " (0.5389669939015386, 80)]"
      ]
     },
     "execution_count": 12,
     "metadata": {},
     "output_type": "execute_result"
    }
   ],
   "source": [
    "from numpy.linalg import norm\n",
    "MN = np.array([r/norm(r) if norm(r) !=0 else np.zeros(len(r)) for r in tfidf_matrix])\n",
    "def ordem(q):\n",
    "    return [np.dot(q,r) for r in MN]\n",
    "# calculando o tf-idf dos termos na consulta, considerando q um documento da Coleção...\n",
    "# O que equivale a vetorizar a consulta.\n",
    "qv = np.array([T.tf_idf(w,qt) for w in qt])\n",
    "qv /= norm(qv)\n",
    "r = ordem(qv)\n",
    "v=filter(lambda x : x[0]!=0.0, zip(r,range(len(tok_textos))))\n",
    "\n",
    "resposta = sorted(v, reverse=True) \n",
    "resposta"
   ]
  },
  {
   "cell_type": "code",
   "execution_count": 14,
   "metadata": {
    "ExecuteTime": {
     "end_time": "2020-10-26T15:32:26.799105Z",
     "start_time": "2020-10-26T15:32:25.341496Z"
    }
   },
   "outputs": [
    {
     "data": {
      "image/png": "[encoded data removed]",
      "text/plain": [
       "<Figure size 432x288 with 1 Axes>"
      ]
     },
     "metadata": {
      "needs_background": "light"
     },
     "output_type": "display_data"
    }
   ],
   "source": [
    "plt.vlines(x=np.cumsum([len(t) for t in tok_textos]),ymin=-1,ymax=40, colors='r', linestyles='-');\n",
    "T.dispersion_plot(qt)"
   ]
  },
  {
   "cell_type": "code",
   "execution_count": 16,
   "metadata": {
    "ExecuteTime": {
     "end_time": "2020-10-26T15:32:59.839675Z",
     "start_time": "2020-10-26T15:32:59.739737Z"
    }
   },
   "outputs": [
    {
     "name": "stdout",
     "output_type": "stream",
     "text": [
      "Displaying 3 of 3 matches:\n",
      "stas criaturas que trazem consigo o elixir de longa vida e o elixir de longa b\n",
      " consigo o elixir de longa vida e o elixir de longa beleza . aos 40 anos inspi\n",
      " e conhecimento de cena . cantou no elixir de amor . estou que os leitores ter\n"
     ]
    }
   ],
   "source": [
    "t185 = nltk.Text(WordPunctTokenizer().tokenize(textos[185].lower()))\n",
    "t185.concordance('elixir')"
   ]
  },
  {
   "cell_type": "code",
   "execution_count": 17,
   "metadata": {
    "ExecuteTime": {
     "end_time": "2020-10-26T15:33:01.043046Z",
     "start_time": "2020-10-26T15:33:01.039620Z"
    }
   },
   "outputs": [
    {
     "name": "stdout",
     "output_type": "stream",
     "text": [
      "Displaying 2 of 2 matches:\n",
      "ram os coros da peça . acompanhou na harpa o duo de elvira e carlos v a sra . d\n",
      "lancolicamente a corda harmoniosa da harpa inspirada do virgílio cristão ! os a\n"
     ]
    }
   ],
   "source": [
    "t185.concordance('harpa')"
   ]
  },
  {
   "cell_type": "code",
   "execution_count": 18,
   "metadata": {
    "ExecuteTime": {
     "end_time": "2020-10-26T15:33:02.729274Z",
     "start_time": "2020-10-26T15:33:02.110001Z"
    }
   },
   "outputs": [
    {
     "name": "stdout",
     "output_type": "stream",
     "text": [
      "Ocorrências dos termos de busca no texto 185:  4 3 2\n",
      "Ocorrências dos termos de busca no texto 0:  1 2 1\n",
      "Ocorrências dos termos de busca no texto 4:  1 0 1\n",
      "Ocorrências dos termos de busca no texto 217:  2 0 1\n",
      "Ocorrências dos termos de busca no texto 193:  11 2 0\n",
      "Ocorrências dos termos de busca no texto 238:  0 1 0\n",
      "Ocorrências dos termos de busca no texto 229:  0 1 0\n",
      "Ocorrências dos termos de busca no texto 138:  0 1 0\n",
      "Ocorrências dos termos de busca no texto 85:  0 9 0\n",
      "Ocorrências dos termos de busca no texto 41:  0 10 0\n",
      "Ocorrências dos termos de busca no texto 32:  0 1 0\n",
      "Ocorrências dos termos de busca no texto 222:  1 0 7\n",
      "Ocorrências dos termos de busca no texto 232:  1 0 0\n",
      "Ocorrências dos termos de busca no texto 194:  1 0 0\n",
      "Ocorrências dos termos de busca no texto 176:  1 0 0\n",
      "Ocorrências dos termos de busca no texto 152:  1 0 0\n",
      "Ocorrências dos termos de busca no texto 125:  2 0 0\n",
      "Ocorrências dos termos de busca no texto 16:  1 0 0\n",
      "Ocorrências dos termos de busca no texto 240:  0 0 1\n",
      "Ocorrências dos termos de busca no texto 218:  0 0 1\n",
      "Ocorrências dos termos de busca no texto 216:  0 0 2\n",
      "Ocorrências dos termos de busca no texto 186:  0 0 1\n",
      "Ocorrências dos termos de busca no texto 184:  0 0 1\n",
      "Ocorrências dos termos de busca no texto 165:  0 0 1\n",
      "Ocorrências dos termos de busca no texto 147:  0 0 1\n",
      "Ocorrências dos termos de busca no texto 139:  0 0 1\n",
      "Ocorrências dos termos de busca no texto 80:  0 0 1\n"
     ]
    }
   ],
   "source": [
    "for sim,tid in resposta: \n",
    "    fd=nltk.FreqDist(WordPunctTokenizer().tokenize(textos[tid].lower()))\n",
    "    print(\"Ocorrências dos termos de busca no texto {}: \".format(tid),fd['lamartine'],fd['elixir'],fd['harpa'])"
   ]
  },
  {
   "cell_type": "code",
   "execution_count": 19,
   "metadata": {
    "ExecuteTime": {
     "end_time": "2020-10-26T15:33:03.781560Z",
     "start_time": "2020-10-26T15:33:03.730407Z"
    }
   },
   "outputs": [],
   "source": [
    "nltk.TextCollection??"
   ]
  },
  {
   "cell_type": "markdown",
   "metadata": {},
   "source": [
    "Vamos agora visualizar os vetores:"
   ]
  },
  {
   "cell_type": "code",
   "execution_count": 25,
   "metadata": {
    "ExecuteTime": {
     "end_time": "2020-10-26T15:33:58.582332Z",
     "start_time": "2020-10-26T15:33:58.423172Z"
    },
    "scrolled": false
   },
   "outputs": [
    {
     "data": {
      "image/png": "[encoded data removed]",
      "text/plain": [
       "<Figure size 720x432 with 1 Axes>"
      ]
     },
     "metadata": {
      "needs_background": "light"
     },
     "output_type": "display_data"
    }
   ],
   "source": [
    "fig = plt.figure(figsize=(10,6))\n",
    "ax = plt.gca()\n",
    "docs = 3\n",
    "vecs = [qv[:2]]\n",
    "for d in resposta[:docs]:\n",
    "    vecs.append(MN[d[1]][:2])\n",
    "    x,y = MN[d[1]][:2]\n",
    "    plt.text(x,y,'{}'.format(d[1]))\n",
    "U, V = zip(*vecs)\n",
    "x,y = np.zeros(docs+1), np.zeros(docs+1)\n",
    "plt.text(U[0],V[0],'consulta')\n",
    "plt.grid()\n",
    "ax.set_xlim(0,1)\n",
    "ax.set_ylim(0,1)\n",
    "ax.set_xlabel('lamartine')\n",
    "ax.set_ylabel('elixir')\n",
    "ax.quiver(x,y,U,V,angles='xy',scale_units='xy', scale=1.0);"
   ]
  },
  {
   "cell_type": "markdown",
   "metadata": {},
   "source": [
    "Usando o Gensim\n",
    "---------------\n",
    "\n",
    "O Gensim é uma biblioteca em Python para modelagem de assuntos. Contudo ele oferece uma série de outras ferramentas muito úteis para outros tipos de problemas em *Recuperação de informação*\n",
    "https://radimrehurek.com/gensim/index.html"
   ]
  },
  {
   "cell_type": "code",
   "execution_count": 28,
   "metadata": {
    "ExecuteTime": {
     "end_time": "2020-10-26T15:46:18.463004Z",
     "start_time": "2020-10-26T15:46:18.112889Z"
    }
   },
   "outputs": [],
   "source": [
    "from gensim import corpora, models, similarities\n",
    "from nltk.corpus import stopwords\n",
    "from nltk.stem.snowball import PortugueseStemmer\n",
    "from collections import Counter\n",
    "from string import punctuation"
   ]
  },
  {
   "cell_type": "code",
   "execution_count": 29,
   "metadata": {
    "ExecuteTime": {
     "end_time": "2020-10-26T15:46:19.501301Z",
     "start_time": "2020-10-26T15:46:19.490361Z"
    }
   },
   "outputs": [],
   "source": [
    "sw = stopwords.words('portuguese')+ list(punctuation)\n",
    "stemmer = PortugueseStemmer()"
   ]
  },
  {
   "cell_type": "code",
   "execution_count": 30,
   "metadata": {
    "ExecuteTime": {
     "end_time": "2020-10-26T15:46:20.550070Z",
     "start_time": "2020-10-26T15:46:20.546788Z"
    }
   },
   "outputs": [
    {
     "data": {
      "text/plain": [
       "'!\"#$%&\\'()*+,-./:;<=>?@[\\\\]^_`{|}~'"
      ]
     },
     "execution_count": 30,
     "metadata": {},
     "output_type": "execute_result"
    }
   ],
   "source": [
    "punctuation"
   ]
  },
  {
   "cell_type": "markdown",
   "metadata": {},
   "source": [
    "Como aprendemos na prática 1, vamos tokenizar, normalizar e remover *stopwords* dos textos."
   ]
  },
  {
   "cell_type": "code",
   "execution_count": 31,
   "metadata": {
    "ExecuteTime": {
     "end_time": "2020-10-26T15:46:53.558266Z",
     "start_time": "2020-10-26T15:46:21.572402Z"
    }
   },
   "outputs": [],
   "source": [
    "textos_limpos = []\n",
    "c = Counter([])\n",
    "for texto in textos:\n",
    "    tlimpo = [stemmer.stem(token.strip(punctuation).lower()) for token in WordPunctTokenizer().tokenize(texto) if token not in sw]\n",
    "    c.update(tlimpo)\n",
    "    textos_limpos.append(tlimpo)\n",
    "textos_limpos = [[token for token in t if c[token]>1] for t in textos_limpos]"
   ]
  },
  {
   "cell_type": "markdown",
   "metadata": {
    "ExecuteTime": {
     "end_time": "2020-10-26T15:47:38.688953Z",
     "start_time": "2020-10-26T15:47:38.685438Z"
    }
   },
   "source": [
    "A partir dos textos limpos e tokenizados podemos criar um dicionário de termos únicos"
   ]
  },
  {
   "cell_type": "code",
   "execution_count": 32,
   "metadata": {
    "ExecuteTime": {
     "end_time": "2020-10-26T15:46:55.953160Z",
     "start_time": "2020-10-26T15:46:55.327514Z"
    }
   },
   "outputs": [
    {
     "name": "stdout",
     "output_type": "stream",
     "text": [
      "Dictionary(18033 unique tokens: ['', '10', '11', '15', '186']...)\n"
     ]
    }
   ],
   "source": [
    "dicionario = corpora.Dictionary(textos_limpos)\n",
    "dicionario.save('vocabulario.dict')\n",
    "print(dicionario)"
   ]
  },
  {
   "cell_type": "markdown",
   "metadata": {
    "collapsed": true
   },
   "source": [
    "### Convertendo para o formato de corpus do Gensim\n",
    "O Gensim trabalha com corpora no paradigma `Bag Of Words` (BOW), e armazena o corpus no formato [market matrix format](http://math.nist.gov/MatrixMarket/formats.html).\n",
    "Para corpora pequenos como as obras de machado podemos converter usando o seguinte comando:"
   ]
  },
  {
   "cell_type": "code",
   "execution_count": 34,
   "metadata": {
    "ExecuteTime": {
     "end_time": "2020-10-26T15:47:59.666479Z",
     "start_time": "2020-10-26T15:47:59.239333Z"
    }
   },
   "outputs": [],
   "source": [
    "corpus = [dicionario.doc2bow(d) for d in textos_limpos]"
   ]
  },
  {
   "cell_type": "code",
   "execution_count": 35,
   "metadata": {
    "ExecuteTime": {
     "end_time": "2020-10-26T15:48:02.679633Z",
     "start_time": "2020-10-26T15:48:02.405698Z"
    }
   },
   "outputs": [],
   "source": [
    "corpora.MmCorpus.serialize('machado.mm', corpus)"
   ]
  },
  {
   "cell_type": "code",
   "execution_count": 66,
   "metadata": {},
   "outputs": [],
   "source": [
    "lsi = models.LsiModel(corpus, id2word=dicionario, num_topics=4)"
   ]
  },
  {
   "cell_type": "markdown",
   "metadata": {},
   "source": [
    "Para representar cada documento no espaço vetorial construído pelo LSI"
   ]
  },
  {
   "cell_type": "code",
   "execution_count": 67,
   "metadata": {
    "collapsed": true
   },
   "outputs": [
    {
     "name": "stderr",
     "output_type": "stream",
     "text": [
      "/usr/local/lib/python3.6/dist-packages/gensim/matutils.py:737: FutureWarning: Conversion of the second argument of issubdtype from `int` to `np.signedinteger` is deprecated. In future, it will be treated as `np.int64 == np.dtype(int).type`.\n",
      "  if np.issubdtype(vec.dtype, np.int):\n"
     ]
    }
   ],
   "source": [
    "index = similarities.MatrixSimilarity(lsi[corpus]) "
   ]
  },
  {
   "cell_type": "code",
   "execution_count": 75,
   "metadata": {},
   "outputs": [
    {
     "name": "stdout",
     "output_type": "stream",
     "text": [
      "['lamartin', 'elix', 'harp']\n"
     ]
    },
    {
     "data": {
      "text/plain": [
       "[(0, 0.0015030200146753624),\n",
       " (1, 0.0012855093785541435),\n",
       " (2, 0.0015506342041337478),\n",
       " (3, -0.0012650398751098265)]"
      ]
     },
     "execution_count": 75,
     "metadata": {},
     "output_type": "execute_result"
    }
   ],
   "source": [
    "qt = [stemmer.stem(t) for t in WordPunctTokenizer().tokenize(q.lower())]\n",
    "print(qt)\n",
    "vec_bow = dicionario.doc2bow(qt)\n",
    "vec_lsi = lsi[vec_bow] # convert the query to LSI space   \n",
    "vec_lsi"
   ]
  },
  {
   "cell_type": "markdown",
   "metadata": {},
   "source": [
    "Agora podemos consultar o nosso corpus por meio da distância de cosseno"
   ]
  },
  {
   "cell_type": "code",
   "execution_count": 77,
   "metadata": {},
   "outputs": [
    {
     "name": "stdout",
     "output_type": "stream",
     "text": [
      "[(199, 0.85357857), (169, 0.849339), (203, 0.8162579), (173, 0.7970059), (166, 0.78722835), (167, 0.7862006), (142, 0.7847142), (161, 0.77773505), (157, 0.7710332), (175, 0.76428616), (186, 0.76417184), (201, 0.76398015), (146, 0.76395464), (214, 0.7620225), (195, 0.7588766), (152, 0.7427852), (207, 0.7381786), (165, 0.7350827), (145, 0.734775), (193, 0.7318572), (158, 0.73079103), (153, 0.7298993), (184, 0.72735465), (176, 0.7225067), (77, 0.7200321), (151, 0.71984017), (156, 0.717278), (181, 0.7162174), (172, 0.7124518), (190, 0.71110207), (160, 0.7009272), (215, 0.6980771), (200, 0.697258), (182, 0.6959387), (194, 0.693673), (138, 0.6918683), (196, 0.6902097), (154, 0.6896333), (198, 0.6873334), (141, 0.68126965), (189, 0.68025184), (170, 0.6794078), (137, 0.67792404), (147, 0.677268), (191, 0.6722902), (164, 0.6714906), (188, 0.66662747), (163, 0.66610295), (144, 0.6644528), (235, 0.66191435), (162, 0.6617066), (140, 0.66114706), (212, 0.6606803), (185, 0.65935546), (111, 0.6556303), (208, 0.6522595), (202, 0.6470502), (149, 0.63846743), (177, 0.6351276), (197, 0.6250715), (192, 0.6178822), (174, 0.6163672), (205, 0.61290956), (180, 0.6115491), (178, 0.61101294), (209, 0.60338736), (171, 0.60033405), (211, 0.5971793), (155, 0.59239304), (139, 0.5919136), (179, 0.5880409), (237, 0.5873475), (219, 0.5699174), (204, 0.5668013), (213, 0.56660444), (236, 0.5621953), (210, 0.5597295), (159, 0.55695546), (150, 0.55302286), (134, 0.5404281), (238, 0.538144), (187, 0.5378728), (143, 0.5272779), (168, 0.5238708), (232, 0.5084901), (234, 0.49779084), (148, 0.4953906), (127, 0.47367632), (206, 0.46770886), (126, 0.46312496), (114, 0.4611743), (74, 0.4605648), (14, 0.4495946), (108, 0.4476053), (91, 0.44004345), (93, 0.4346391), (231, 0.43394762), (98, 0.4294561), (21, 0.428738), (15, 0.42852974), (97, 0.42491895), (115, 0.42322913), (230, 0.4214934), (119, 0.4147847), (116, 0.41256642), (72, 0.4111464), (183, 0.40950328), (94, 0.4009953), (132, 0.39066166), (8, 0.38696855), (3, 0.3869503), (217, 0.3842889), (2, 0.38236514), (131, 0.3769517), (227, 0.37521547), (99, 0.3745867), (5, 0.36962712), (88, 0.36896688), (92, 0.36489213), (6, 0.36337286), (110, 0.35845923), (103, 0.35805938), (130, 0.35641575), (89, 0.35614395), (121, 0.35475016), (9, 0.3506347), (17, 0.34852713), (221, 0.34823), (118, 0.34727907), (24, 0.34597832), (109, 0.34464413), (101, 0.3425959), (95, 0.34178197), (216, 0.3357005), (27, 0.32958108), (73, 0.32792065), (124, 0.3260774), (90, 0.32169074), (37, 0.32043153), (4, 0.31966054), (10, 0.3168385), (128, 0.31472588), (218, 0.3146428), (34, 0.31333804), (133, 0.3109001), (96, 0.31004962), (105, 0.30842558), (100, 0.30020216), (23, 0.3001653), (16, 0.29874837), (26, 0.298087), (123, 0.29379576), (228, 0.29276294), (86, 0.29271328), (120, 0.29146525), (51, 0.29016623), (106, 0.28893882), (220, 0.2870009), (104, 0.28689092), (222, 0.28633362), (43, 0.28509822), (13, 0.27837074), (53, 0.27820712), (12, 0.27475962), (66, 0.27373862), (84, 0.26704288), (87, 0.26402435), (41, 0.26381117), (229, 0.2611068), (117, 0.25768533), (28, 0.2553768), (224, 0.2541396), (18, 0.2523765), (22, 0.2502538), (122, 0.2471845), (20, 0.24296781), (32, 0.24194533), (11, 0.24179165), (102, 0.24057096), (76, 0.24032591), (58, 0.23979282), (107, 0.2353268), (1, 0.23245513), (49, 0.23201215), (60, 0.23176025), (0, 0.2256773), (79, 0.22200745), (54, 0.22155893), (83, 0.21894464), (47, 0.21805115), (57, 0.2152502), (226, 0.21268661), (25, 0.21160476), (71, 0.21041346), (113, 0.20976055), (35, 0.20906824), (80, 0.20708397), (85, 0.20661479), (136, 0.20539874), (30, 0.20507652), (31, 0.20058984), (46, 0.19699872), (244, 0.1951136), (36, 0.19033459), (69, 0.18922287), (112, 0.18902576), (75, 0.18828371), (225, 0.18697134), (19, 0.18538952), (33, 0.181283), (44, 0.17827237), (61, 0.17766804), (59, 0.17397818), (125, 0.17240697), (52, 0.17191759), (62, 0.16812041), (50, 0.16806382), (223, 0.16768), (39, 0.16764283), (65, 0.16684201), (56, 0.16622153), (29, 0.16444781), (68, 0.15832049), (82, 0.15621889), (129, 0.15454546), (70, 0.15285969), (55, 0.15091208), (63, 0.14721245), (64, 0.14692092), (81, 0.14418358), (38, 0.1344356), (42, 0.12200415), (40, 0.121015996), (45, 0.10916686), (48, 0.08697367), (67, 0.0658277), (135, 0.036413953), (78, 0.030959688), (241, 0.026165217), (239, 0.014451079), (233, -0.0005277023), (243, -0.012347639), (240, -0.025216676), (242, -0.045801878), (245, -0.06124796), (7, -0.10568607)]\n"
     ]
    }
   ],
   "source": [
    "sims = index[vec_lsi] \n",
    "sims = sorted(enumerate(sims), key=lambda item: -item[1])\n",
    "print(sims)"
   ]
  },
  {
   "cell_type": "code",
   "execution_count": 70,
   "metadata": {},
   "outputs": [
    {
     "data": {
      "text/plain": [
       "[(0,\n",
       "  '0.480*\"é\" + 0.293*\"\\x97\" + 0.238*\"\" + 0.207*\"outr\" + 0.173*\"a\" + 0.168*\"nã\" + 0.157*\"o\" + 0.144*\"tod\" + 0.143*\"pod\" + 0.120*\"cas\"'),\n",
       " (1,\n",
       "  '-0.889*\"\" + 0.226*\"é\" + -0.167*\"diss\" + 0.135*\"\\x97\" + -0.116*\"oliv\" + -0.077*\"sr\" + 0.068*\"outr\" + 0.061*\"\\x93\" + 0.055*\"\\x94\" + -0.045*\"jud\"'),\n",
       " (2,\n",
       "  '-0.761*\"\\x97\" + 0.385*\"é\" + -0.118*\"mar\" + -0.116*\"diss\" + -0.103*\"rubiã\" + 0.096*\"\" + -0.095*\"capítul\" + -0.092*\"cas\" + 0.076*\"\\x93\" + -0.072*\"mã\"'),\n",
       " (3,\n",
       "  '0.399*\"gilliatt\" + 0.355*\"o\" + 0.257*\"a\" + 0.199*\"mar\" + -0.156*\"\\x97\" + 0.153*\"águ\" + 0.148*\"lethierry\" + 0.140*\"vent\" + -0.117*\"outr\" + 0.114*\"clubin\"')]"
      ]
     },
     "execution_count": 70,
     "metadata": {},
     "output_type": "execute_result"
    }
   ],
   "source": [
    "lsi.show_topics()"
   ]
  },
  {
   "cell_type": "markdown",
   "metadata": {},
   "source": [
    "## Trabalhando com corpora grandes\n",
    "Muitas veze um corpus é muito maior que que oo espaço de memória disponível. Para lidar com estas situações, o Gensim trabalha sobre iteradores permitindo que façamos nossas análises trazer para a memória apenas um documento por vez. Para este exercício vamos trabalhar com o [corpus dos blogs brasileiros](https://www.inf.pucrs.br/linatural/wordpress/recursos-e-ferramentas/blogset-br/).\n",
    "\n",
    "Vamos começar baixando o corpus e salvando-o como um banco de dados SQLite."
   ]
  },
  {
   "cell_type": "code",
   "execution_count": 41,
   "metadata": {
    "ExecuteTime": {
     "end_time": "2020-10-26T16:12:07.998307Z",
     "start_time": "2020-10-26T16:12:07.921053Z"
    }
   },
   "outputs": [
    {
     "ename": "HTTPError",
     "evalue": "HTTP Error 403: Forbidden",
     "output_type": "error",
     "traceback": [
      "\u001b[0;31m---------------------------------------------------------------------------\u001b[0m",
      "\u001b[0;31mHTTPError\u001b[0m                                 Traceback (most recent call last)",
      "\u001b[0;32m<ipython-input-41-475e14ee250b>\u001b[0m in \u001b[0;36m<module>\u001b[0;34m\u001b[0m\n\u001b[1;32m      1\u001b[0m \u001b[0;32mimport\u001b[0m \u001b[0mpandas\u001b[0m \u001b[0;32mas\u001b[0m \u001b[0mpd\u001b[0m\u001b[0;34m\u001b[0m\u001b[0;34m\u001b[0m\u001b[0m\n\u001b[0;32m----> 2\u001b[0;31m \u001b[0mposts\u001b[0m \u001b[0;34m=\u001b[0m \u001b[0mpd\u001b[0m\u001b[0;34m.\u001b[0m\u001b[0mread_csv\u001b[0m\u001b[0;34m(\u001b[0m\u001b[0;34m'https://www.inf.pucrs.br/linatural/blogs/blogset-br.csv.gz'\u001b[0m\u001b[0;34m,\u001b[0m \u001b[0mcompression\u001b[0m\u001b[0;34m=\u001b[0m\u001b[0;34m'gzip'\u001b[0m\u001b[0;34m,\u001b[0m \u001b[0mheader\u001b[0m\u001b[0;34m=\u001b[0m\u001b[0;32mNone\u001b[0m\u001b[0;34m)\u001b[0m\u001b[0;34m\u001b[0m\u001b[0;34m\u001b[0m\u001b[0m\n\u001b[0m",
      "\u001b[0;32m/usr/local/lib/python3.8/dist-packages/pandas/io/parsers.py\u001b[0m in \u001b[0;36mread_csv\u001b[0;34m(filepath_or_buffer, sep, delimiter, header, names, index_col, usecols, squeeze, prefix, mangle_dupe_cols, dtype, engine, converters, true_values, false_values, skipinitialspace, skiprows, skipfooter, nrows, na_values, keep_default_na, na_filter, verbose, skip_blank_lines, parse_dates, infer_datetime_format, keep_date_col, date_parser, dayfirst, cache_dates, iterator, chunksize, compression, thousands, decimal, lineterminator, quotechar, quoting, doublequote, escapechar, comment, encoding, dialect, error_bad_lines, warn_bad_lines, delim_whitespace, low_memory, memory_map, float_precision)\u001b[0m\n\u001b[1;32m    684\u001b[0m     )\n\u001b[1;32m    685\u001b[0m \u001b[0;34m\u001b[0m\u001b[0m\n\u001b[0;32m--> 686\u001b[0;31m     \u001b[0;32mreturn\u001b[0m \u001b[0m_read\u001b[0m\u001b[0;34m(\u001b[0m\u001b[0mfilepath_or_buffer\u001b[0m\u001b[0;34m,\u001b[0m \u001b[0mkwds\u001b[0m\u001b[0;34m)\u001b[0m\u001b[0;34m\u001b[0m\u001b[0;34m\u001b[0m\u001b[0m\n\u001b[0m\u001b[1;32m    687\u001b[0m \u001b[0;34m\u001b[0m\u001b[0m\n\u001b[1;32m    688\u001b[0m \u001b[0;34m\u001b[0m\u001b[0m\n",
      "\u001b[0;32m/usr/local/lib/python3.8/dist-packages/pandas/io/parsers.py\u001b[0m in \u001b[0;36m_read\u001b[0;34m(filepath_or_buffer, kwds)\u001b[0m\n\u001b[1;32m    432\u001b[0m     \u001b[0;31m# though mypy handling of conditional imports is difficult.\u001b[0m\u001b[0;34m\u001b[0m\u001b[0;34m\u001b[0m\u001b[0;34m\u001b[0m\u001b[0m\n\u001b[1;32m    433\u001b[0m     \u001b[0;31m# See https://github.com/python/mypy/issues/1297\u001b[0m\u001b[0;34m\u001b[0m\u001b[0;34m\u001b[0m\u001b[0;34m\u001b[0m\u001b[0m\n\u001b[0;32m--> 434\u001b[0;31m     fp_or_buf, _, compression, should_close = get_filepath_or_buffer(\n\u001b[0m\u001b[1;32m    435\u001b[0m         \u001b[0mfilepath_or_buffer\u001b[0m\u001b[0;34m,\u001b[0m \u001b[0mencoding\u001b[0m\u001b[0;34m,\u001b[0m \u001b[0mcompression\u001b[0m\u001b[0;34m\u001b[0m\u001b[0;34m\u001b[0m\u001b[0m\n\u001b[1;32m    436\u001b[0m     )\n",
      "\u001b[0;32m/usr/local/lib/python3.8/dist-packages/pandas/io/common.py\u001b[0m in \u001b[0;36mget_filepath_or_buffer\u001b[0;34m(filepath_or_buffer, encoding, compression, mode, storage_options)\u001b[0m\n\u001b[1;32m    181\u001b[0m     \u001b[0;32mif\u001b[0m \u001b[0misinstance\u001b[0m\u001b[0;34m(\u001b[0m\u001b[0mfilepath_or_buffer\u001b[0m\u001b[0;34m,\u001b[0m \u001b[0mstr\u001b[0m\u001b[0;34m)\u001b[0m \u001b[0;32mand\u001b[0m \u001b[0mis_url\u001b[0m\u001b[0;34m(\u001b[0m\u001b[0mfilepath_or_buffer\u001b[0m\u001b[0;34m)\u001b[0m\u001b[0;34m:\u001b[0m\u001b[0;34m\u001b[0m\u001b[0;34m\u001b[0m\u001b[0m\n\u001b[1;32m    182\u001b[0m         \u001b[0;31m# TODO: fsspec can also handle HTTP via requests, but leaving this unchanged\u001b[0m\u001b[0;34m\u001b[0m\u001b[0;34m\u001b[0m\u001b[0;34m\u001b[0m\u001b[0m\n\u001b[0;32m--> 183\u001b[0;31m         \u001b[0mreq\u001b[0m \u001b[0;34m=\u001b[0m \u001b[0murlopen\u001b[0m\u001b[0;34m(\u001b[0m\u001b[0mfilepath_or_buffer\u001b[0m\u001b[0;34m)\u001b[0m\u001b[0;34m\u001b[0m\u001b[0;34m\u001b[0m\u001b[0m\n\u001b[0m\u001b[1;32m    184\u001b[0m         \u001b[0mcontent_encoding\u001b[0m \u001b[0;34m=\u001b[0m \u001b[0mreq\u001b[0m\u001b[0;34m.\u001b[0m\u001b[0mheaders\u001b[0m\u001b[0;34m.\u001b[0m\u001b[0mget\u001b[0m\u001b[0;34m(\u001b[0m\u001b[0;34m\"Content-Encoding\"\u001b[0m\u001b[0;34m,\u001b[0m \u001b[0;32mNone\u001b[0m\u001b[0;34m)\u001b[0m\u001b[0;34m\u001b[0m\u001b[0;34m\u001b[0m\u001b[0m\n\u001b[1;32m    185\u001b[0m         \u001b[0;32mif\u001b[0m \u001b[0mcontent_encoding\u001b[0m \u001b[0;34m==\u001b[0m \u001b[0;34m\"gzip\"\u001b[0m\u001b[0;34m:\u001b[0m\u001b[0;34m\u001b[0m\u001b[0;34m\u001b[0m\u001b[0m\n",
      "\u001b[0;32m/usr/local/lib/python3.8/dist-packages/pandas/io/common.py\u001b[0m in \u001b[0;36murlopen\u001b[0;34m(*args, **kwargs)\u001b[0m\n\u001b[1;32m    135\u001b[0m     \u001b[0;32mimport\u001b[0m \u001b[0murllib\u001b[0m\u001b[0;34m.\u001b[0m\u001b[0mrequest\u001b[0m\u001b[0;34m\u001b[0m\u001b[0;34m\u001b[0m\u001b[0m\n\u001b[1;32m    136\u001b[0m \u001b[0;34m\u001b[0m\u001b[0m\n\u001b[0;32m--> 137\u001b[0;31m     \u001b[0;32mreturn\u001b[0m \u001b[0murllib\u001b[0m\u001b[0;34m.\u001b[0m\u001b[0mrequest\u001b[0m\u001b[0;34m.\u001b[0m\u001b[0murlopen\u001b[0m\u001b[0;34m(\u001b[0m\u001b[0;34m*\u001b[0m\u001b[0margs\u001b[0m\u001b[0;34m,\u001b[0m \u001b[0;34m**\u001b[0m\u001b[0mkwargs\u001b[0m\u001b[0;34m)\u001b[0m\u001b[0;34m\u001b[0m\u001b[0;34m\u001b[0m\u001b[0m\n\u001b[0m\u001b[1;32m    138\u001b[0m \u001b[0;34m\u001b[0m\u001b[0m\n\u001b[1;32m    139\u001b[0m \u001b[0;34m\u001b[0m\u001b[0m\n",
      "\u001b[0;32m/usr/lib/python3.8/urllib/request.py\u001b[0m in \u001b[0;36murlopen\u001b[0;34m(url, data, timeout, cafile, capath, cadefault, context)\u001b[0m\n\u001b[1;32m    220\u001b[0m     \u001b[0;32melse\u001b[0m\u001b[0;34m:\u001b[0m\u001b[0;34m\u001b[0m\u001b[0;34m\u001b[0m\u001b[0m\n\u001b[1;32m    221\u001b[0m         \u001b[0mopener\u001b[0m \u001b[0;34m=\u001b[0m \u001b[0m_opener\u001b[0m\u001b[0;34m\u001b[0m\u001b[0;34m\u001b[0m\u001b[0m\n\u001b[0;32m--> 222\u001b[0;31m     \u001b[0;32mreturn\u001b[0m \u001b[0mopener\u001b[0m\u001b[0;34m.\u001b[0m\u001b[0mopen\u001b[0m\u001b[0;34m(\u001b[0m\u001b[0murl\u001b[0m\u001b[0;34m,\u001b[0m \u001b[0mdata\u001b[0m\u001b[0;34m,\u001b[0m \u001b[0mtimeout\u001b[0m\u001b[0;34m)\u001b[0m\u001b[0;34m\u001b[0m\u001b[0;34m\u001b[0m\u001b[0m\n\u001b[0m\u001b[1;32m    223\u001b[0m \u001b[0;34m\u001b[0m\u001b[0m\n\u001b[1;32m    224\u001b[0m \u001b[0;32mdef\u001b[0m \u001b[0minstall_opener\u001b[0m\u001b[0;34m(\u001b[0m\u001b[0mopener\u001b[0m\u001b[0;34m)\u001b[0m\u001b[0;34m:\u001b[0m\u001b[0;34m\u001b[0m\u001b[0;34m\u001b[0m\u001b[0m\n",
      "\u001b[0;32m/usr/lib/python3.8/urllib/request.py\u001b[0m in \u001b[0;36mopen\u001b[0;34m(self, fullurl, data, timeout)\u001b[0m\n\u001b[1;32m    529\u001b[0m         \u001b[0;32mfor\u001b[0m \u001b[0mprocessor\u001b[0m \u001b[0;32min\u001b[0m \u001b[0mself\u001b[0m\u001b[0;34m.\u001b[0m\u001b[0mprocess_response\u001b[0m\u001b[0;34m.\u001b[0m\u001b[0mget\u001b[0m\u001b[0;34m(\u001b[0m\u001b[0mprotocol\u001b[0m\u001b[0;34m,\u001b[0m \u001b[0;34m[\u001b[0m\u001b[0;34m]\u001b[0m\u001b[0;34m)\u001b[0m\u001b[0;34m:\u001b[0m\u001b[0;34m\u001b[0m\u001b[0;34m\u001b[0m\u001b[0m\n\u001b[1;32m    530\u001b[0m             \u001b[0mmeth\u001b[0m \u001b[0;34m=\u001b[0m \u001b[0mgetattr\u001b[0m\u001b[0;34m(\u001b[0m\u001b[0mprocessor\u001b[0m\u001b[0;34m,\u001b[0m \u001b[0mmeth_name\u001b[0m\u001b[0;34m)\u001b[0m\u001b[0;34m\u001b[0m\u001b[0;34m\u001b[0m\u001b[0m\n\u001b[0;32m--> 531\u001b[0;31m             \u001b[0mresponse\u001b[0m \u001b[0;34m=\u001b[0m \u001b[0mmeth\u001b[0m\u001b[0;34m(\u001b[0m\u001b[0mreq\u001b[0m\u001b[0;34m,\u001b[0m \u001b[0mresponse\u001b[0m\u001b[0;34m)\u001b[0m\u001b[0;34m\u001b[0m\u001b[0;34m\u001b[0m\u001b[0m\n\u001b[0m\u001b[1;32m    532\u001b[0m \u001b[0;34m\u001b[0m\u001b[0m\n\u001b[1;32m    533\u001b[0m         \u001b[0;32mreturn\u001b[0m \u001b[0mresponse\u001b[0m\u001b[0;34m\u001b[0m\u001b[0;34m\u001b[0m\u001b[0m\n",
      "\u001b[0;32m/usr/lib/python3.8/urllib/request.py\u001b[0m in \u001b[0;36mhttp_response\u001b[0;34m(self, request, response)\u001b[0m\n\u001b[1;32m    638\u001b[0m         \u001b[0;31m# request was successfully received, understood, and accepted.\u001b[0m\u001b[0;34m\u001b[0m\u001b[0;34m\u001b[0m\u001b[0;34m\u001b[0m\u001b[0m\n\u001b[1;32m    639\u001b[0m         \u001b[0;32mif\u001b[0m \u001b[0;32mnot\u001b[0m \u001b[0;34m(\u001b[0m\u001b[0;36m200\u001b[0m \u001b[0;34m<=\u001b[0m \u001b[0mcode\u001b[0m \u001b[0;34m<\u001b[0m \u001b[0;36m300\u001b[0m\u001b[0;34m)\u001b[0m\u001b[0;34m:\u001b[0m\u001b[0;34m\u001b[0m\u001b[0;34m\u001b[0m\u001b[0m\n\u001b[0;32m--> 640\u001b[0;31m             response = self.parent.error(\n\u001b[0m\u001b[1;32m    641\u001b[0m                 'http', request, response, code, msg, hdrs)\n\u001b[1;32m    642\u001b[0m \u001b[0;34m\u001b[0m\u001b[0m\n",
      "\u001b[0;32m/usr/lib/python3.8/urllib/request.py\u001b[0m in \u001b[0;36merror\u001b[0;34m(self, proto, *args)\u001b[0m\n\u001b[1;32m    567\u001b[0m         \u001b[0;32mif\u001b[0m \u001b[0mhttp_err\u001b[0m\u001b[0;34m:\u001b[0m\u001b[0;34m\u001b[0m\u001b[0;34m\u001b[0m\u001b[0m\n\u001b[1;32m    568\u001b[0m             \u001b[0margs\u001b[0m \u001b[0;34m=\u001b[0m \u001b[0;34m(\u001b[0m\u001b[0mdict\u001b[0m\u001b[0;34m,\u001b[0m \u001b[0;34m'default'\u001b[0m\u001b[0;34m,\u001b[0m \u001b[0;34m'http_error_default'\u001b[0m\u001b[0;34m)\u001b[0m \u001b[0;34m+\u001b[0m \u001b[0morig_args\u001b[0m\u001b[0;34m\u001b[0m\u001b[0;34m\u001b[0m\u001b[0m\n\u001b[0;32m--> 569\u001b[0;31m             \u001b[0;32mreturn\u001b[0m \u001b[0mself\u001b[0m\u001b[0;34m.\u001b[0m\u001b[0m_call_chain\u001b[0m\u001b[0;34m(\u001b[0m\u001b[0;34m*\u001b[0m\u001b[0margs\u001b[0m\u001b[0;34m)\u001b[0m\u001b[0;34m\u001b[0m\u001b[0;34m\u001b[0m\u001b[0m\n\u001b[0m\u001b[1;32m    570\u001b[0m \u001b[0;34m\u001b[0m\u001b[0m\n\u001b[1;32m    571\u001b[0m \u001b[0;31m# XXX probably also want an abstract factory that knows when it makes\u001b[0m\u001b[0;34m\u001b[0m\u001b[0;34m\u001b[0m\u001b[0;34m\u001b[0m\u001b[0m\n",
      "\u001b[0;32m/usr/lib/python3.8/urllib/request.py\u001b[0m in \u001b[0;36m_call_chain\u001b[0;34m(self, chain, kind, meth_name, *args)\u001b[0m\n\u001b[1;32m    500\u001b[0m         \u001b[0;32mfor\u001b[0m \u001b[0mhandler\u001b[0m \u001b[0;32min\u001b[0m \u001b[0mhandlers\u001b[0m\u001b[0;34m:\u001b[0m\u001b[0;34m\u001b[0m\u001b[0;34m\u001b[0m\u001b[0m\n\u001b[1;32m    501\u001b[0m             \u001b[0mfunc\u001b[0m \u001b[0;34m=\u001b[0m \u001b[0mgetattr\u001b[0m\u001b[0;34m(\u001b[0m\u001b[0mhandler\u001b[0m\u001b[0;34m,\u001b[0m \u001b[0mmeth_name\u001b[0m\u001b[0;34m)\u001b[0m\u001b[0;34m\u001b[0m\u001b[0;34m\u001b[0m\u001b[0m\n\u001b[0;32m--> 502\u001b[0;31m             \u001b[0mresult\u001b[0m \u001b[0;34m=\u001b[0m \u001b[0mfunc\u001b[0m\u001b[0;34m(\u001b[0m\u001b[0;34m*\u001b[0m\u001b[0margs\u001b[0m\u001b[0;34m)\u001b[0m\u001b[0;34m\u001b[0m\u001b[0;34m\u001b[0m\u001b[0m\n\u001b[0m\u001b[1;32m    503\u001b[0m             \u001b[0;32mif\u001b[0m \u001b[0mresult\u001b[0m \u001b[0;32mis\u001b[0m \u001b[0;32mnot\u001b[0m \u001b[0;32mNone\u001b[0m\u001b[0;34m:\u001b[0m\u001b[0;34m\u001b[0m\u001b[0;34m\u001b[0m\u001b[0m\n\u001b[1;32m    504\u001b[0m                 \u001b[0;32mreturn\u001b[0m \u001b[0mresult\u001b[0m\u001b[0;34m\u001b[0m\u001b[0;34m\u001b[0m\u001b[0m\n",
      "\u001b[0;32m/usr/lib/python3.8/urllib/request.py\u001b[0m in \u001b[0;36mhttp_error_default\u001b[0;34m(self, req, fp, code, msg, hdrs)\u001b[0m\n\u001b[1;32m    647\u001b[0m \u001b[0;32mclass\u001b[0m \u001b[0mHTTPDefaultErrorHandler\u001b[0m\u001b[0;34m(\u001b[0m\u001b[0mBaseHandler\u001b[0m\u001b[0;34m)\u001b[0m\u001b[0;34m:\u001b[0m\u001b[0;34m\u001b[0m\u001b[0;34m\u001b[0m\u001b[0m\n\u001b[1;32m    648\u001b[0m     \u001b[0;32mdef\u001b[0m \u001b[0mhttp_error_default\u001b[0m\u001b[0;34m(\u001b[0m\u001b[0mself\u001b[0m\u001b[0;34m,\u001b[0m \u001b[0mreq\u001b[0m\u001b[0;34m,\u001b[0m \u001b[0mfp\u001b[0m\u001b[0;34m,\u001b[0m \u001b[0mcode\u001b[0m\u001b[0;34m,\u001b[0m \u001b[0mmsg\u001b[0m\u001b[0;34m,\u001b[0m \u001b[0mhdrs\u001b[0m\u001b[0;34m)\u001b[0m\u001b[0;34m:\u001b[0m\u001b[0;34m\u001b[0m\u001b[0;34m\u001b[0m\u001b[0m\n\u001b[0;32m--> 649\u001b[0;31m         \u001b[0;32mraise\u001b[0m \u001b[0mHTTPError\u001b[0m\u001b[0;34m(\u001b[0m\u001b[0mreq\u001b[0m\u001b[0;34m.\u001b[0m\u001b[0mfull_url\u001b[0m\u001b[0;34m,\u001b[0m \u001b[0mcode\u001b[0m\u001b[0;34m,\u001b[0m \u001b[0mmsg\u001b[0m\u001b[0;34m,\u001b[0m \u001b[0mhdrs\u001b[0m\u001b[0;34m,\u001b[0m \u001b[0mfp\u001b[0m\u001b[0;34m)\u001b[0m\u001b[0;34m\u001b[0m\u001b[0;34m\u001b[0m\u001b[0m\n\u001b[0m\u001b[1;32m    650\u001b[0m \u001b[0;34m\u001b[0m\u001b[0m\n\u001b[1;32m    651\u001b[0m \u001b[0;32mclass\u001b[0m \u001b[0mHTTPRedirectHandler\u001b[0m\u001b[0;34m(\u001b[0m\u001b[0mBaseHandler\u001b[0m\u001b[0;34m)\u001b[0m\u001b[0;34m:\u001b[0m\u001b[0;34m\u001b[0m\u001b[0;34m\u001b[0m\u001b[0m\n",
      "\u001b[0;31mHTTPError\u001b[0m: HTTP Error 403: Forbidden"
     ]
    }
   ],
   "source": [
    "import pandas as pd\n",
    "from sqlalchemy import create_engine\n",
    "engine = create_engine('sqlite:///blogs.sqlite', echo=False)\n",
    "posts = pd.read_csv('blogset-br.csv.gz', compression='gzip',low_memory=True, header=None)\n",
    "posts.columns = ['post_id', 'blog_id', 'published', 'title', 'content', 'author_id', 'author_displayName', 'replies_totalItems', 'tags']\n",
    "df.to_sql('blogs', con=engine)"
   ]
  },
  {
   "cell_type": "code",
   "execution_count": 37,
   "metadata": {
    "ExecuteTime": {
     "end_time": "2020-10-26T15:58:21.095513Z",
     "start_time": "2020-10-26T15:58:21.080087Z"
    }
   },
   "outputs": [],
   "source": [
    "\n",
    "class StreamCorpus(object):\n",
    "    def __init__(self, dbfile):\n",
    "        self.con = create_engine(f'sqlite:///dbfile', echo=False)\n",
    "        self.dicionario = corpora.Dictionary(self.text_gen)\n",
    "        \n",
    "    @property\n",
    "    def text_gen(self):\n",
    "        return (t.lower().split() for t in self.con.execute(\"SELECT content FROM blogs\"))\n",
    "        \n",
    "    def __iter__(self):\n",
    "        for doc in self.text_gen:\n",
    "            yield dictionary.doc2bow(doc)"
   ]
  },
  {
   "cell_type": "code",
   "execution_count": null,
   "metadata": {},
   "outputs": [],
   "source": [
    "SC = StreamCorpus('blogs.sqlite')\n",
    "tfidf = models.TfidfModel(SC)  "
   ]
  }
 ],
 "metadata": {
  "kernelspec": {
   "display_name": "Python 3",
   "language": "python",
   "name": "python3"
  },
  "language_info": {
   "codemirror_mode": {
    "name": "ipython",
    "version": 3
   },
   "file_extension": ".py",
   "mimetype": "text/x-python",
   "name": "python",
   "nbconvert_exporter": "python",
   "pygments_lexer": "ipython3",
   "version": "3.8.5"
  },
  "latex_envs": {
   "LaTeX_envs_menu_present": true,
   "autoclose": false,
   "autocomplete": true,
   "bibliofile": "biblio.bib",
   "cite_by": "apalike",
   "current_citInitial": 1,
   "eqLabelWithNumbers": true,
   "eqNumInitial": 1,
   "hotkeys": {
    "equation": "Ctrl-E",
    "itemize": "Ctrl-I"
   },
   "labels_anchors": false,
   "latex_user_defs": false,
   "report_style_numbering": false,
   "user_envs_cfg": false
  },
  "toc": {
   "base_numbering": 1,
   "nav_menu": {},
   "number_sections": true,
   "sideBar": true,
   "skip_h1_title": false,
   "title_cell": "Table of Contents",
   "title_sidebar": "Contents",
   "toc_cell": false,
   "toc_position": {},
   "toc_section_display": true,
   "toc_window_display": true
  },
  "varInspector": {
   "cols": {
    "lenName": 16,
    "lenType": 16,
    "lenVar": 40
   },
   "kernels_config": {
    "python": {
     "delete_cmd_postfix": "",
     "delete_cmd_prefix": "del ",
     "library": "var_list.py",
     "varRefreshCmd": "print(var_dic_list())"
    },
    "r": {
     "delete_cmd_postfix": ") ",
     "delete_cmd_prefix": "rm(",
     "library": "var_list.r",
     "varRefreshCmd": "cat(var_dic_list()) "
    }
   },
   "types_to_exclude": [
    "module",
    "function",
    "builtin_function_or_method",
    "instance",
    "_Feature"
   ],
   "window_display": false
  }
 },
 "nbformat": 4,
 "nbformat_minor": 2
}
